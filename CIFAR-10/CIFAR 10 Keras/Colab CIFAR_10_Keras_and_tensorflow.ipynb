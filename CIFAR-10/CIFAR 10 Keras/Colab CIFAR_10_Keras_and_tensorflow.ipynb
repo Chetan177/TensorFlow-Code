{
 "cells": [
  {
   "cell_type": "markdown",
   "metadata": {
    "colab_type": "text",
    "id": "BuOXQvuhFaGY"
   },
   "source": [
    "# CNN Project\n",
    "We'll be using the CIFAR-10 dataset, which is very famous dataset for image recognition!\n",
    "\n",
    "The CIFAR-10 dataset consists of 60000 32x32 colour images in 10 classes, with 6000 images per class. \n",
    "There are 50000 training images and 10000 test images.\n",
    "\n",
    "The dataset is divided into five training batches and one test batch, each with 10000 images. The test batch contains exactly 10000 randomly-selected images from each class. The training batches contain the remaining images in random order, but some training batches may contain more images from one class than another. Between them, the training batches contain exactly 5000 images from each class.\n",
    "\n",
    "\n",
    "\n",
    "![img.png.jpg](attachment:img.png.jpg)"
   ]
  },
  {
   "cell_type": "code",
   "execution_count": 6,
   "metadata": {
    "colab": {
     "base_uri": "https://localhost:8080/",
     "height": 204
    },
    "colab_type": "code",
    "id": "8bPvtkVIFcaZ",
    "outputId": "76027007-45e5-415c-af15-06358f0e37d3"
   },
   "outputs": [
    {
     "name": "stdout",
     "output_type": "stream",
     "text": [
      "--2019-06-21 17:40:29--  https://www.cs.toronto.edu/~kriz/cifar-10-python.tar.gz\n",
      "Resolving www.cs.toronto.edu (www.cs.toronto.edu)... 128.100.3.30\n",
      "Connecting to www.cs.toronto.edu (www.cs.toronto.edu)|128.100.3.30|:443... connected.\n",
      "HTTP request sent, awaiting response... 200 OK\n",
      "Length: 170498071 (163M) [application/x-gzip]\n",
      "Saving to: ‘cifar-10-python.tar.gz’\n",
      "\n",
      "cifar-10-python.tar 100%[===================>] 162.60M  62.1MB/s    in 2.6s    \n",
      "\n",
      "2019-06-21 17:40:31 (62.1 MB/s) - ‘cifar-10-python.tar.gz’ saved [170498071/170498071]\n",
      "\n"
     ]
    }
   ],
   "source": [
    "!wget \"https://www.cs.toronto.edu/~kriz/cifar-10-python.tar.gz\""
   ]
  },
  {
   "cell_type": "code",
   "execution_count": 10,
   "metadata": {
    "colab": {
     "base_uri": "https://localhost:8080/",
     "height": 170
    },
    "colab_type": "code",
    "id": "hunPnyLGFoIJ",
    "outputId": "7b6f771b-9e91-425f-84d6-12beb5eface8"
   },
   "outputs": [
    {
     "name": "stdout",
     "output_type": "stream",
     "text": [
      "cifar-10-batches-py/\n",
      "cifar-10-batches-py/data_batch_4\n",
      "cifar-10-batches-py/readme.html\n",
      "cifar-10-batches-py/test_batch\n",
      "cifar-10-batches-py/data_batch_3\n",
      "cifar-10-batches-py/batches.meta\n",
      "cifar-10-batches-py/data_batch_2\n",
      "cifar-10-batches-py/data_batch_5\n",
      "cifar-10-batches-py/data_batch_1\n"
     ]
    }
   ],
   "source": [
    "!tar xvzf cifar-10-python.tar.gz "
   ]
  },
  {
   "cell_type": "code",
   "execution_count": 11,
   "metadata": {
    "colab": {
     "base_uri": "https://localhost:8080/",
     "height": 34
    },
    "colab_type": "code",
    "id": "KYJv5WkYF3-V",
    "outputId": "4693d955-b677-4ccd-ef14-7425daa3aa25"
   },
   "outputs": [
    {
     "name": "stdout",
     "output_type": "stream",
     "text": [
      "cifar-10-batches-py  cifar-10-data  cifar-10-python.tar.gz  sample_data\n"
     ]
    }
   ],
   "source": [
    "!ls"
   ]
  },
  {
   "cell_type": "markdown",
   "metadata": {
    "colab_type": "text",
    "id": "muOYQ0JNFaGa"
   },
   "source": [
    "## Data  Processing \n",
    "\n",
    "** Download the data for CIFAR from here: https://www.cs.toronto.edu/~kriz/cifar.html **\n",
    "\n",
    "*Specifically the CIFAR-10 python version link: https://www.cs.toronto.edu/~kriz/cifar-10-python.tar.gz *"
   ]
  },
  {
   "cell_type": "code",
   "execution_count": 0,
   "metadata": {
    "colab": {},
    "colab_type": "code",
    "id": "Ex3jrDKcFaGi"
   },
   "outputs": [],
   "source": [
    "data_dir='cifar-10-batches-py/'   # Data directory where all data_batch the files contain\n",
    "files = ['batches.meta','data_batch_1','data_batch_2','data_batch_3','data_batch_4','data_batch_5','test_batch']"
   ]
  },
  {
   "cell_type": "code",
   "execution_count": 0,
   "metadata": {
    "colab": {},
    "colab_type": "code",
    "id": "A3Opu4gUFaGo"
   },
   "outputs": [],
   "source": [
    "# Unpickle function is provided with the data\n",
    "def unpickle(file):                                    \n",
    "    import pickle\n",
    "    with open(file, 'rb') as fo:\n",
    "        cifar_dict = pickle.load(fo, encoding='bytes')\n",
    "    return cifar_dict"
   ]
  },
  {
   "cell_type": "code",
   "execution_count": 0,
   "metadata": {
    "colab": {},
    "colab_type": "code",
    "id": "OfWcPTMxFaGq"
   },
   "outputs": [],
   "source": [
    "all_data=list(range(0,7))\n"
   ]
  },
  {
   "cell_type": "code",
   "execution_count": 0,
   "metadata": {
    "colab": {},
    "colab_type": "code",
    "id": "F4C1Z5ycFaGv"
   },
   "outputs": [],
   "source": [
    "for i,direc in zip(all_data,files):\n",
    "    all_data[i] = unpickle(data_dir+direc)"
   ]
  },
  {
   "cell_type": "code",
   "execution_count": 0,
   "metadata": {
    "colab": {},
    "colab_type": "code",
    "id": "Z_ZRLCnpFaGx"
   },
   "outputs": [],
   "source": [
    "data_meta = all_data[0]\n",
    "data_1 = all_data[1]\n",
    "data_2 = all_data[2]\n",
    "data_3 = all_data[3]\n",
    "data_4 = all_data[4]\n",
    "data_5 = all_data[5]\n",
    "test_batch = all_data[6]"
   ]
  },
  {
   "cell_type": "code",
   "execution_count": 17,
   "metadata": {
    "colab": {
     "base_uri": "https://localhost:8080/",
     "height": 34
    },
    "colab_type": "code",
    "id": "8VctfgP3FaG0",
    "outputId": "fc40e76e-342b-4f8e-cc2f-0b6c76dcb1bf"
   },
   "outputs": [
    {
     "name": "stdout",
     "output_type": "stream",
     "text": [
      "[b'airplane', b'automobile', b'bird', b'cat', b'deer', b'dog', b'frog', b'horse', b'ship', b'truck']\n"
     ]
    }
   ],
   "source": [
    "# Total Labels Present in the Data (n =10)\n",
    "tag = data_meta[b'label_names']\n",
    "print(tag)"
   ]
  },
  {
   "cell_type": "code",
   "execution_count": 18,
   "metadata": {
    "colab": {
     "base_uri": "https://localhost:8080/",
     "height": 34
    },
    "colab_type": "code",
    "id": "kfUqbzFNFaG8",
    "outputId": "72ee3f37-de3d-426b-a535-4a89a658c1b6"
   },
   "outputs": [
    {
     "data": {
      "text/plain": [
       "dict_keys([b'batch_label', b'labels', b'data', b'filenames'])"
      ]
     },
     "execution_count": 18,
     "metadata": {
      "tags": []
     },
     "output_type": "execute_result"
    }
   ],
   "source": [
    "data_1.keys()"
   ]
  },
  {
   "cell_type": "code",
   "execution_count": 19,
   "metadata": {
    "colab": {
     "base_uri": "https://localhost:8080/",
     "height": 34
    },
    "colab_type": "code",
    "id": "eClu3pa6FaHA",
    "outputId": "41465aa6-2a65-4868-c991-def74f1de004"
   },
   "outputs": [
    {
     "data": {
      "text/plain": [
       "(10000, 3072)"
      ]
     },
     "execution_count": 19,
     "metadata": {
      "tags": []
     },
     "output_type": "execute_result"
    }
   ],
   "source": [
    "''' \n",
    "\n",
    "The images are stored in row major order\n",
    "As all the images are Colour Images RGB \n",
    "Each channel of the image is stored one after another for example:\n",
    "    In row 1 first 32*32(1024) values represent the red channel and the further 32*32(1024) values represent green channel and then 32*32(1024) values represent blue\n",
    "    We can interpret it as :\n",
    "   [img 1]      row 1        0-1023(R channel) 1024-2047(G channel) 2048 -3071(Blue channel)\n",
    "   [img 1]      row 2        0-1023(R channel) 1024-2047(G channel) 2048 -3071(Blue channel)\n",
    "   ...\n",
    "   ...\n",
    "   ...\n",
    "   [img 10000 ] row 100000   0-1023(R channel) 1024-2047(G channel) 2048 -3071(Blue channel)\n",
    "   \n",
    "   \n",
    "'''\n",
    "\n",
    "# Size of the data :\n",
    "data_1[b'data'].shape"
   ]
  },
  {
   "cell_type": "code",
   "execution_count": 20,
   "metadata": {
    "colab": {
     "base_uri": "https://localhost:8080/",
     "height": 136
    },
    "colab_type": "code",
    "id": "ae4vpsBRFaHE",
    "outputId": "48828a68-3110-4d82-86c8-2f24e7a3f338"
   },
   "outputs": [
    {
     "data": {
      "text/plain": [
       "array([[ 59,  43,  50, ..., 140,  84,  72],\n",
       "       [154, 126, 105, ..., 139, 142, 144],\n",
       "       [255, 253, 253, ...,  83,  83,  84],\n",
       "       ...,\n",
       "       [ 71,  60,  74, ...,  68,  69,  68],\n",
       "       [250, 254, 211, ..., 215, 255, 254],\n",
       "       [ 62,  61,  60, ..., 130, 130, 131]], dtype=uint8)"
      ]
     },
     "execution_count": 20,
     "metadata": {
      "tags": []
     },
     "output_type": "execute_result"
    }
   ],
   "source": [
    "data_1[b'data']"
   ]
  },
  {
   "cell_type": "code",
   "execution_count": 0,
   "metadata": {
    "colab": {},
    "colab_type": "code",
    "id": "P1jTws1XFaHK"
   },
   "outputs": [],
   "source": [
    "import matplotlib.pyplot as plt\n",
    "%matplotlib inline\n",
    "import numpy as np"
   ]
  },
  {
   "cell_type": "code",
   "execution_count": 0,
   "metadata": {
    "colab": {},
    "colab_type": "code",
    "id": "qb5iRiTEFaHN"
   },
   "outputs": [],
   "source": [
    "img = data_1[b'data']\n",
    "img = img.reshape(10000, 3, 32, 32).transpose(0,2,3,1).astype(\"uint8\")  # reshape(total images, no of channel, height , width )"
   ]
  },
  {
   "cell_type": "code",
   "execution_count": 23,
   "metadata": {
    "colab": {
     "base_uri": "https://localhost:8080/",
     "height": 286
    },
    "colab_type": "code",
    "id": "3ZHieN8aFaHQ",
    "outputId": "e012cad2-5d3f-4bb1-ceb5-84938fdc9327"
   },
   "outputs": [
    {
     "data": {
      "text/plain": [
       "<matplotlib.image.AxesImage at 0x7f6612239940>"
      ]
     },
     "execution_count": 23,
     "metadata": {
      "tags": []
     },
     "output_type": "execute_result"
    },
    {
     "data": {
      "image/png": "[encoded data removed]",
      "text/plain": [
       "<Figure size 432x288 with 1 Axes>"
      ]
     },
     "metadata": {
      "tags": []
     },
     "output_type": "display_data"
    }
   ],
   "source": [
    "plt.imshow(img[0])"
   ]
  },
  {
   "cell_type": "code",
   "execution_count": 24,
   "metadata": {
    "colab": {
     "base_uri": "https://localhost:8080/",
     "height": 286
    },
    "colab_type": "code",
    "id": "foDULmRvFaHU",
    "outputId": "6de5cae4-c184-4546-8d65-0afdffd60ea4"
   },
   "outputs": [
    {
     "data": {
      "text/plain": [
       "<matplotlib.image.AxesImage at 0x7f660f951390>"
      ]
     },
     "execution_count": 24,
     "metadata": {
      "tags": []
     },
     "output_type": "execute_result"
    },
    {
     "data": {
      "image/png": "[encoded data removed]",
      "text/plain": [
       "<Figure size 432x288 with 1 Axes>"
      ]
     },
     "metadata": {
      "tags": []
     },
     "output_type": "display_data"
    }
   ],
   "source": [
    "plt.imshow(img[100])"
   ]
  },
  {
   "cell_type": "code",
   "execution_count": 25,
   "metadata": {
    "colab": {
     "base_uri": "https://localhost:8080/",
     "height": 286
    },
    "colab_type": "code",
    "id": "-yn0bLTpFaHZ",
    "outputId": "f281ba0f-9a02-4ea1-e6f4-40f06f0b6823"
   },
   "outputs": [
    {
     "data": {
      "text/plain": [
       "<matplotlib.image.AxesImage at 0x7f660f931e48>"
      ]
     },
     "execution_count": 25,
     "metadata": {
      "tags": []
     },
     "output_type": "execute_result"
    },
    {
     "data": {
      "image/png": "[encoded data removed]",
      "text/plain": [
       "<Figure size 432x288 with 1 Axes>"
      ]
     },
     "metadata": {
      "tags": []
     },
     "output_type": "display_data"
    }
   ],
   "source": [
    "plt.imshow(img[1000])"
   ]
  },
  {
   "cell_type": "code",
   "execution_count": 26,
   "metadata": {
    "colab": {
     "base_uri": "https://localhost:8080/",
     "height": 286
    },
    "colab_type": "code",
    "id": "tu7CnUF0FaHc",
    "outputId": "4d14b302-2100-4019-c118-dd799664827e"
   },
   "outputs": [
    {
     "data": {
      "text/plain": [
       "<matplotlib.image.AxesImage at 0x7f660f892470>"
      ]
     },
     "execution_count": 26,
     "metadata": {
      "tags": []
     },
     "output_type": "execute_result"
    },
    {
     "data": {
      "image/png": "[encoded data removed]",
      "text/plain": [
       "<Figure size 432x288 with 1 Axes>"
      ]
     },
     "metadata": {
      "tags": []
     },
     "output_type": "display_data"
    }
   ],
   "source": [
    "plt.imshow(img[2000])"
   ]
  },
  {
   "cell_type": "code",
   "execution_count": 0,
   "metadata": {
    "colab": {},
    "colab_type": "code",
    "id": "kxqxSI4vFaHg"
   },
   "outputs": [],
   "source": [
    "def one_hot_encode(vec, vals=10):\n",
    "    '''\n",
    "    For use to one-hot encode the 10- possible labels\n",
    "    '''\n",
    "    n = len(vec)\n",
    "    out = np.zeros((n, vals))\n",
    "    out[range(n), vec] = 1\n",
    "    return out"
   ]
  },
  {
   "cell_type": "code",
   "execution_count": 0,
   "metadata": {
    "colab": {},
    "colab_type": "code",
    "id": "3R6Z5TvOFaHk"
   },
   "outputs": [],
   "source": [
    "class DataSet():\n",
    "    def __init__(self):\n",
    "        self.i = 0\n",
    "        self.all_train_batches = [data_1,data_2,data_3,data_4,data_5]  # all the train data batches\n",
    "        self.test_batch = [test_batch]  # test data batches\n",
    "        # Training Data\n",
    "        self.train_images = None\n",
    "        self.train_labels = None\n",
    "        # Test data\n",
    "        self.test_images = None\n",
    "        self.test_labels = None\n",
    "        \n",
    "    def set_data(self):\n",
    "            \n",
    "            \n",
    "        self.train_images = np.vstack([d[b\"data\"] for d in self.all_train_batches])\n",
    "        train_len = len(self.train_images)\n",
    "         # Reshapes and normalizes train images\n",
    "        self.train_images = self.train_images.reshape(train_len,3,32,32).transpose(0,2,3,1)/255\n",
    "        # One hot Encodes \n",
    "        self.train_labels = one_hot_encode(np.hstack([d[b\"labels\"] for d in self.all_train_batches]), 10)\n",
    "        self.test_images = np.vstack([d[b\"data\"] for d in self.test_batch])\n",
    "        test_len = len(self.test_images)\n",
    "        \n",
    "        # Reshapes and normalizes test images\n",
    "        self.test_images = self.test_images.reshape(test_len,3,32,32).transpose(0,2,3,1)/255\n",
    "        # One hot Encodes \n",
    "        self.test_labels = one_hot_encode(np.hstack([d[b\"labels\"] for d in self.test_batch]), 10)\n",
    "        return self.train_images,self.train_labels,self.test_images,self.test_labels"
   ]
  },
  {
   "cell_type": "code",
   "execution_count": 0,
   "metadata": {
    "colab": {},
    "colab_type": "code",
    "id": "yh2qTcWmFaHp"
   },
   "outputs": [],
   "source": [
    "ds = DataSet()\n",
    "\n",
    "X_train , y_train, X_test, y_test = ds.set_data()"
   ]
  },
  {
   "cell_type": "markdown",
   "metadata": {
    "colab_type": "text",
    "id": "gIhLU9gFFaHt"
   },
   "source": [
    "## Creating the CNN model"
   ]
  },
  {
   "cell_type": "markdown",
   "metadata": {
    "colab_type": "text",
    "id": "lDSW8LipFaHu"
   },
   "source": [
    "Building the CNN using the Keras API which is in built in the Tensorflow"
   ]
  },
  {
   "cell_type": "code",
   "execution_count": 0,
   "metadata": {
    "colab": {},
    "colab_type": "code",
    "id": "NSe-ZFtsFaHv",
    "scrolled": true
   },
   "outputs": [],
   "source": [
    "# Dependencies \n",
    "import tensorflow as tf \n",
    "from tensorflow.keras.layers import Conv2D\n",
    "from tensorflow.keras.layers import MaxPooling2D\n",
    "from tensorflow.keras.layers import Dense, BatchNormalization\n",
    "from tensorflow.keras.layers import Dropout ,Flatten\n",
    "from tensorflow.keras.models import Sequential\n",
    "from tensorflow.keras.optimizers import Adam"
   ]
  },
  {
   "cell_type": "code",
   "execution_count": 0,
   "metadata": {
    "colab": {},
    "colab_type": "code",
    "id": "_7PAGM15FaHx"
   },
   "outputs": [],
   "source": [
    "model =  Sequential()"
   ]
  },
  {
   "cell_type": "code",
   "execution_count": 32,
   "metadata": {
    "colab": {
     "base_uri": "https://localhost:8080/",
     "height": 105
    },
    "colab_type": "code",
    "id": "oD1jN4VAGmTq",
    "outputId": "02deba49-178f-4996-94d8-74fdb7881bcb"
   },
   "outputs": [
    {
     "name": "stderr",
     "output_type": "stream",
     "text": [
      "WARNING: Logging before flag parsing goes to stderr.\n",
      "W0621 17:41:29.728338 140076955420544 deprecation.py:506] From /usr/local/lib/python3.6/dist-packages/tensorflow/python/ops/init_ops.py:1251: calling VarianceScaling.__init__ (from tensorflow.python.ops.init_ops) with dtype is deprecated and will be removed in a future version.\n",
      "Instructions for updating:\n",
      "Call initializer instance with the dtype argument instead of passing it to the constructor\n"
     ]
    }
   ],
   "source": [
    "model.add(Conv2D(32, (3, 3), padding='same',activation = \"relu\",input_shape=(32,32,3)))\n",
    "model.add(BatchNormalization())"
   ]
  },
  {
   "cell_type": "code",
   "execution_count": 0,
   "metadata": {
    "colab": {},
    "colab_type": "code",
    "id": "fWa3Hc_MFaH0"
   },
   "outputs": [],
   "source": [
    "model.add(Conv2D(32, (3, 3), padding='same',activation = \"relu\"))\n",
    "model.add(MaxPooling2D(pool_size=(2,2)))\n",
    "model.add(Dropout(0.2))         "
   ]
  },
  {
   "cell_type": "code",
   "execution_count": 0,
   "metadata": {
    "colab": {},
    "colab_type": "code",
    "id": "F9BT4djSG5Dc"
   },
   "outputs": [],
   "source": [
    "model.add(Conv2D(64, (3, 3), padding='same',activation = \"relu\"))\n",
    "model.add(BatchNormalization())"
   ]
  },
  {
   "cell_type": "code",
   "execution_count": 0,
   "metadata": {
    "colab": {},
    "colab_type": "code",
    "id": "joM5WjFlFaH2"
   },
   "outputs": [],
   "source": [
    "model.add(Conv2D(64, (3, 3), padding='same',activation = \"relu\"))\n",
    "model.add(MaxPooling2D(pool_size=(2,2)))"
   ]
  },
  {
   "cell_type": "code",
   "execution_count": 0,
   "metadata": {
    "colab": {},
    "colab_type": "code",
    "id": "YUUfJ0kvFaH5"
   },
   "outputs": [],
   "source": [
    "model.add(Dropout(0.4))"
   ]
  },
  {
   "cell_type": "code",
   "execution_count": 0,
   "metadata": {
    "colab": {},
    "colab_type": "code",
    "id": "tfrl0Wg0FaH8"
   },
   "outputs": [],
   "source": [
    "model.add(Flatten())\n",
    "model.add(Dense(128, activation='relu'))"
   ]
  },
  {
   "cell_type": "code",
   "execution_count": 0,
   "metadata": {
    "colab": {},
    "colab_type": "code",
    "id": "pXTBIEQnHK1F"
   },
   "outputs": [],
   "source": [
    "model.add(Dense(10,activation = \"softmax\"))"
   ]
  },
  {
   "cell_type": "code",
   "execution_count": 40,
   "metadata": {
    "colab": {
     "base_uri": "https://localhost:8080/",
     "height": 595
    },
    "colab_type": "code",
    "id": "cFqHysuuFaH_",
    "outputId": "0c3de2f7-2795-4c59-f4c7-b1694674b591"
   },
   "outputs": [
    {
     "name": "stdout",
     "output_type": "stream",
     "text": [
      "Model: \"sequential\"\n",
      "_________________________________________________________________\n",
      "Layer (type)                 Output Shape              Param #   \n",
      "=================================================================\n",
      "conv2d (Conv2D)              (None, 32, 32, 32)        896       \n",
      "_________________________________________________________________\n",
      "batch_normalization (BatchNo (None, 32, 32, 32)        128       \n",
      "_________________________________________________________________\n",
      "conv2d_1 (Conv2D)            (None, 32, 32, 32)        9248      \n",
      "_________________________________________________________________\n",
      "max_pooling2d (MaxPooling2D) (None, 16, 16, 32)        0         \n",
      "_________________________________________________________________\n",
      "dropout (Dropout)            (None, 16, 16, 32)        0         \n",
      "_________________________________________________________________\n",
      "conv2d_2 (Conv2D)            (None, 16, 16, 64)        18496     \n",
      "_________________________________________________________________\n",
      "batch_normalization_1 (Batch (None, 16, 16, 64)        256       \n",
      "_________________________________________________________________\n",
      "conv2d_3 (Conv2D)            (None, 16, 16, 64)        36928     \n",
      "_________________________________________________________________\n",
      "max_pooling2d_1 (MaxPooling2 (None, 8, 8, 64)          0         \n",
      "_________________________________________________________________\n",
      "dropout_1 (Dropout)          (None, 8, 8, 64)          0         \n",
      "_________________________________________________________________\n",
      "flatten (Flatten)            (None, 4096)              0         \n",
      "_________________________________________________________________\n",
      "dense (Dense)                (None, 128)               524416    \n",
      "_________________________________________________________________\n",
      "dense_1 (Dense)              (None, 10)                1290      \n",
      "=================================================================\n",
      "Total params: 591,658\n",
      "Trainable params: 591,466\n",
      "Non-trainable params: 192\n",
      "_________________________________________________________________\n"
     ]
    }
   ],
   "source": [
    "model.summary()"
   ]
  },
  {
   "cell_type": "code",
   "execution_count": 0,
   "metadata": {
    "colab": {},
    "colab_type": "code",
    "id": "v3or8E5jFaIC"
   },
   "outputs": [],
   "source": [
    "opt = Adam(lr=0.001)  #Optimizer\n"
   ]
  },
  {
   "cell_type": "code",
   "execution_count": 0,
   "metadata": {
    "colab": {},
    "colab_type": "code",
    "id": "kT82pDNwFaIF"
   },
   "outputs": [],
   "source": [
    "model.compile(opt,loss='categorical_crossentropy', metrics=['accuracy'])"
   ]
  },
  {
   "cell_type": "code",
   "execution_count": 43,
   "metadata": {
    "colab": {
     "base_uri": "https://localhost:8080/",
     "height": 3451
    },
    "colab_type": "code",
    "id": "G_WNQL7JFaIK",
    "outputId": "55b3f847-7c78-4d37-c1fb-37bd387dafb4"
   },
   "outputs": [
    {
     "name": "stdout",
     "output_type": "stream",
     "text": [
      "Train on 50000 samples, validate on 10000 samples\n",
      "Epoch 1/100\n",
      "50000/50000 [==============================] - 11s 216us/sample - loss: 2.3383 - acc: 0.2614 - val_loss: 2.2543 - val_acc: 0.1485\n",
      "Epoch 2/100\n",
      "50000/50000 [==============================] - 6s 114us/sample - loss: 1.6372 - acc: 0.4055 - val_loss: 2.3874 - val_acc: 0.1000\n",
      "Epoch 3/100\n",
      "50000/50000 [==============================] - 6s 114us/sample - loss: 1.3715 - acc: 0.4981 - val_loss: 2.7350 - val_acc: 0.1823\n",
      "Epoch 4/100\n",
      "50000/50000 [==============================] - 6s 114us/sample - loss: 1.1974 - acc: 0.5670 - val_loss: 2.8857 - val_acc: 0.1434\n",
      "Epoch 5/100\n",
      "50000/50000 [==============================] - 6s 115us/sample - loss: 1.0657 - acc: 0.6191 - val_loss: 3.0232 - val_acc: 0.1660\n",
      "Epoch 6/100\n",
      "50000/50000 [==============================] - 6s 115us/sample - loss: 0.9644 - acc: 0.6596 - val_loss: 3.1804 - val_acc: 0.1498\n",
      "Epoch 7/100\n",
      "50000/50000 [==============================] - 6s 116us/sample - loss: 0.8920 - acc: 0.6854 - val_loss: 2.7286 - val_acc: 0.2500\n",
      "Epoch 8/100\n",
      "50000/50000 [==============================] - 6s 116us/sample - loss: 0.8438 - acc: 0.7042 - val_loss: 2.3522 - val_acc: 0.2978\n",
      "Epoch 9/100\n",
      "50000/50000 [==============================] - 6s 116us/sample - loss: 0.7932 - acc: 0.7216 - val_loss: 1.9793 - val_acc: 0.3888\n",
      "Epoch 10/100\n",
      "50000/50000 [==============================] - 6s 116us/sample - loss: 0.7579 - acc: 0.7338 - val_loss: 1.4946 - val_acc: 0.4911\n",
      "Epoch 11/100\n",
      "50000/50000 [==============================] - 6s 117us/sample - loss: 0.7271 - acc: 0.7440 - val_loss: 1.0679 - val_acc: 0.6341\n",
      "Epoch 12/100\n",
      "50000/50000 [==============================] - 6s 117us/sample - loss: 0.6979 - acc: 0.7548 - val_loss: 0.8278 - val_acc: 0.7167\n",
      "Epoch 13/100\n",
      "50000/50000 [==============================] - 6s 117us/sample - loss: 0.6744 - acc: 0.7631 - val_loss: 0.8388 - val_acc: 0.7017\n",
      "Epoch 14/100\n",
      "50000/50000 [==============================] - 6s 118us/sample - loss: 0.6488 - acc: 0.7726 - val_loss: 0.7293 - val_acc: 0.7462\n",
      "Epoch 15/100\n",
      "50000/50000 [==============================] - 6s 117us/sample - loss: 0.6313 - acc: 0.7789 - val_loss: 0.6814 - val_acc: 0.7635\n",
      "Epoch 16/100\n",
      "50000/50000 [==============================] - 6s 116us/sample - loss: 0.6094 - acc: 0.7875 - val_loss: 0.6667 - val_acc: 0.7696\n",
      "Epoch 17/100\n",
      "50000/50000 [==============================] - 6s 116us/sample - loss: 0.5984 - acc: 0.7897 - val_loss: 0.6577 - val_acc: 0.7709\n",
      "Epoch 18/100\n",
      "50000/50000 [==============================] - 6s 117us/sample - loss: 0.5790 - acc: 0.7970 - val_loss: 0.6544 - val_acc: 0.7747\n",
      "Epoch 19/100\n",
      "50000/50000 [==============================] - 6s 116us/sample - loss: 0.5653 - acc: 0.8015 - val_loss: 0.6654 - val_acc: 0.7703\n",
      "Epoch 20/100\n",
      "50000/50000 [==============================] - 6s 116us/sample - loss: 0.5479 - acc: 0.8073 - val_loss: 0.6388 - val_acc: 0.7804\n",
      "Epoch 21/100\n",
      "50000/50000 [==============================] - 6s 116us/sample - loss: 0.5364 - acc: 0.8107 - val_loss: 0.6266 - val_acc: 0.7843\n",
      "Epoch 22/100\n",
      "50000/50000 [==============================] - 6s 116us/sample - loss: 0.5219 - acc: 0.8162 - val_loss: 0.6018 - val_acc: 0.7927\n",
      "Epoch 23/100\n",
      "50000/50000 [==============================] - 6s 117us/sample - loss: 0.5108 - acc: 0.8211 - val_loss: 0.6146 - val_acc: 0.7885\n",
      "Epoch 24/100\n",
      "50000/50000 [==============================] - 6s 116us/sample - loss: 0.5000 - acc: 0.8221 - val_loss: 0.6781 - val_acc: 0.7686\n",
      "Epoch 25/100\n",
      "50000/50000 [==============================] - 6s 116us/sample - loss: 0.4909 - acc: 0.8285 - val_loss: 0.6395 - val_acc: 0.7794\n",
      "Epoch 26/100\n",
      "50000/50000 [==============================] - 6s 116us/sample - loss: 0.4816 - acc: 0.8301 - val_loss: 0.6588 - val_acc: 0.7760\n",
      "Epoch 27/100\n",
      "50000/50000 [==============================] - 6s 117us/sample - loss: 0.4765 - acc: 0.8329 - val_loss: 0.6080 - val_acc: 0.7873\n",
      "Epoch 28/100\n",
      "50000/50000 [==============================] - 6s 118us/sample - loss: 0.4629 - acc: 0.8374 - val_loss: 0.6120 - val_acc: 0.7941\n",
      "Epoch 29/100\n",
      "50000/50000 [==============================] - 6s 117us/sample - loss: 0.4548 - acc: 0.8391 - val_loss: 0.6042 - val_acc: 0.7973\n",
      "Epoch 30/100\n",
      "50000/50000 [==============================] - 6s 116us/sample - loss: 0.4429 - acc: 0.8438 - val_loss: 0.6432 - val_acc: 0.7804\n",
      "Epoch 31/100\n",
      "50000/50000 [==============================] - 6s 117us/sample - loss: 0.4327 - acc: 0.8477 - val_loss: 0.6322 - val_acc: 0.7900\n",
      "Epoch 32/100\n",
      "50000/50000 [==============================] - 6s 117us/sample - loss: 0.4265 - acc: 0.8494 - val_loss: 0.6403 - val_acc: 0.7848\n",
      "Epoch 33/100\n",
      "50000/50000 [==============================] - 6s 116us/sample - loss: 0.4199 - acc: 0.8503 - val_loss: 0.6160 - val_acc: 0.7954\n",
      "Epoch 34/100\n",
      "50000/50000 [==============================] - 6s 116us/sample - loss: 0.4139 - acc: 0.8531 - val_loss: 0.6147 - val_acc: 0.7940\n",
      "Epoch 35/100\n",
      "50000/50000 [==============================] - 6s 116us/sample - loss: 0.4034 - acc: 0.8567 - val_loss: 0.6031 - val_acc: 0.7995\n",
      "Epoch 36/100\n",
      "50000/50000 [==============================] - 6s 116us/sample - loss: 0.3980 - acc: 0.8573 - val_loss: 0.5886 - val_acc: 0.8048\n",
      "Epoch 37/100\n",
      "50000/50000 [==============================] - 6s 116us/sample - loss: 0.3930 - acc: 0.8614 - val_loss: 0.5730 - val_acc: 0.8045\n",
      "Epoch 38/100\n",
      "50000/50000 [==============================] - 6s 117us/sample - loss: 0.3855 - acc: 0.8620 - val_loss: 0.5883 - val_acc: 0.8018\n",
      "Epoch 39/100\n",
      "50000/50000 [==============================] - 6s 117us/sample - loss: 0.3770 - acc: 0.8661 - val_loss: 0.5634 - val_acc: 0.8087\n",
      "Epoch 40/100\n",
      "50000/50000 [==============================] - 6s 116us/sample - loss: 0.3704 - acc: 0.8675 - val_loss: 0.5975 - val_acc: 0.7989\n",
      "Epoch 41/100\n",
      "50000/50000 [==============================] - 6s 116us/sample - loss: 0.3675 - acc: 0.8684 - val_loss: 0.5956 - val_acc: 0.8041\n",
      "Epoch 42/100\n",
      "50000/50000 [==============================] - 6s 116us/sample - loss: 0.3661 - acc: 0.8696 - val_loss: 0.5899 - val_acc: 0.8048\n",
      "Epoch 43/100\n",
      "50000/50000 [==============================] - 6s 116us/sample - loss: 0.3587 - acc: 0.8717 - val_loss: 0.5815 - val_acc: 0.8054\n",
      "Epoch 44/100\n",
      "50000/50000 [==============================] - 6s 117us/sample - loss: 0.3509 - acc: 0.8761 - val_loss: 0.6035 - val_acc: 0.8044\n",
      "Epoch 45/100\n",
      "50000/50000 [==============================] - 6s 116us/sample - loss: 0.3422 - acc: 0.8774 - val_loss: 0.5871 - val_acc: 0.8081\n",
      "Epoch 46/100\n",
      "50000/50000 [==============================] - 6s 116us/sample - loss: 0.3395 - acc: 0.8781 - val_loss: 0.5819 - val_acc: 0.8115\n",
      "Epoch 47/100\n",
      "50000/50000 [==============================] - 6s 116us/sample - loss: 0.3366 - acc: 0.8795 - val_loss: 0.5777 - val_acc: 0.8134\n",
      "Epoch 48/100\n",
      "50000/50000 [==============================] - 6s 116us/sample - loss: 0.3314 - acc: 0.8820 - val_loss: 0.7251 - val_acc: 0.7770\n",
      "Epoch 49/100\n",
      "50000/50000 [==============================] - 6s 116us/sample - loss: 0.3268 - acc: 0.8833 - val_loss: 0.5941 - val_acc: 0.8095\n",
      "Epoch 50/100\n",
      "50000/50000 [==============================] - 6s 116us/sample - loss: 0.3215 - acc: 0.8859 - val_loss: 0.5995 - val_acc: 0.8121\n",
      "Epoch 51/100\n",
      "50000/50000 [==============================] - 6s 116us/sample - loss: 0.3194 - acc: 0.8858 - val_loss: 0.5801 - val_acc: 0.8140\n",
      "Epoch 52/100\n",
      "50000/50000 [==============================] - 6s 116us/sample - loss: 0.3091 - acc: 0.8891 - val_loss: 0.6003 - val_acc: 0.8100\n",
      "Epoch 53/100\n",
      "50000/50000 [==============================] - 6s 116us/sample - loss: 0.3088 - acc: 0.8882 - val_loss: 0.6074 - val_acc: 0.8060\n",
      "Epoch 54/100\n",
      "50000/50000 [==============================] - 6s 116us/sample - loss: 0.3033 - acc: 0.8926 - val_loss: 0.6067 - val_acc: 0.8068\n",
      "Epoch 55/100\n",
      "50000/50000 [==============================] - 6s 116us/sample - loss: 0.2973 - acc: 0.8941 - val_loss: 0.5862 - val_acc: 0.8166\n",
      "Epoch 56/100\n",
      "50000/50000 [==============================] - 6s 116us/sample - loss: 0.2939 - acc: 0.8942 - val_loss: 0.5796 - val_acc: 0.8219\n",
      "Epoch 57/100\n",
      "50000/50000 [==============================] - 6s 115us/sample - loss: 0.2888 - acc: 0.8972 - val_loss: 0.6100 - val_acc: 0.8092\n",
      "Epoch 58/100\n",
      "50000/50000 [==============================] - 6s 116us/sample - loss: 0.2858 - acc: 0.8984 - val_loss: 0.6571 - val_acc: 0.7987\n",
      "Epoch 59/100\n",
      "50000/50000 [==============================] - 6s 116us/sample - loss: 0.2779 - acc: 0.9000 - val_loss: 0.5800 - val_acc: 0.8179\n",
      "Epoch 60/100\n",
      "50000/50000 [==============================] - 6s 116us/sample - loss: 0.2820 - acc: 0.8984 - val_loss: 0.5926 - val_acc: 0.8156\n",
      "Epoch 61/100\n",
      "50000/50000 [==============================] - 6s 116us/sample - loss: 0.2782 - acc: 0.9002 - val_loss: 0.6099 - val_acc: 0.8146\n",
      "Epoch 62/100\n",
      "50000/50000 [==============================] - 6s 116us/sample - loss: 0.2697 - acc: 0.9026 - val_loss: 0.6143 - val_acc: 0.8124\n",
      "Epoch 63/100\n",
      "50000/50000 [==============================] - 6s 116us/sample - loss: 0.2626 - acc: 0.9071 - val_loss: 0.5952 - val_acc: 0.8188\n",
      "Epoch 64/100\n",
      "50000/50000 [==============================] - 6s 116us/sample - loss: 0.2624 - acc: 0.9056 - val_loss: 0.6845 - val_acc: 0.7995\n",
      "Epoch 65/100\n",
      "50000/50000 [==============================] - 6s 116us/sample - loss: 0.2613 - acc: 0.9062 - val_loss: 0.6249 - val_acc: 0.8167\n",
      "Epoch 66/100\n",
      "50000/50000 [==============================] - 6s 116us/sample - loss: 0.2556 - acc: 0.9073 - val_loss: 0.6573 - val_acc: 0.8103\n",
      "Epoch 67/100\n",
      "50000/50000 [==============================] - 6s 115us/sample - loss: 0.2530 - acc: 0.9082 - val_loss: 0.6241 - val_acc: 0.8178\n",
      "Epoch 68/100\n",
      "50000/50000 [==============================] - 6s 116us/sample - loss: 0.2472 - acc: 0.9106 - val_loss: 0.6236 - val_acc: 0.8138\n",
      "Epoch 69/100\n",
      "50000/50000 [==============================] - 6s 116us/sample - loss: 0.2503 - acc: 0.9094 - val_loss: 0.6299 - val_acc: 0.8106\n",
      "Epoch 70/100\n",
      "50000/50000 [==============================] - 6s 116us/sample - loss: 0.2356 - acc: 0.9154 - val_loss: 0.6674 - val_acc: 0.8059\n",
      "Epoch 71/100\n",
      "50000/50000 [==============================] - 6s 116us/sample - loss: 0.2369 - acc: 0.9140 - val_loss: 0.6414 - val_acc: 0.8114\n",
      "Epoch 72/100\n",
      "50000/50000 [==============================] - 6s 116us/sample - loss: 0.2368 - acc: 0.9147 - val_loss: 0.6082 - val_acc: 0.8227\n",
      "Epoch 73/100\n",
      "50000/50000 [==============================] - 6s 116us/sample - loss: 0.2360 - acc: 0.9153 - val_loss: 0.6498 - val_acc: 0.8081\n",
      "Epoch 74/100\n",
      "50000/50000 [==============================] - 6s 115us/sample - loss: 0.2339 - acc: 0.9162 - val_loss: 0.6296 - val_acc: 0.8145\n",
      "Epoch 75/100\n",
      "50000/50000 [==============================] - 6s 116us/sample - loss: 0.2295 - acc: 0.9177 - val_loss: 0.5980 - val_acc: 0.8234\n",
      "Epoch 76/100\n",
      "50000/50000 [==============================] - 6s 116us/sample - loss: 0.2227 - acc: 0.9188 - val_loss: 0.6616 - val_acc: 0.8089\n",
      "Epoch 77/100\n",
      "50000/50000 [==============================] - 6s 115us/sample - loss: 0.2274 - acc: 0.9179 - val_loss: 0.6306 - val_acc: 0.8188\n",
      "Epoch 78/100\n",
      "50000/50000 [==============================] - 6s 116us/sample - loss: 0.2218 - acc: 0.9202 - val_loss: 0.6779 - val_acc: 0.8166\n",
      "Epoch 79/100\n",
      "50000/50000 [==============================] - 6s 116us/sample - loss: 0.2215 - acc: 0.9200 - val_loss: 0.6400 - val_acc: 0.8199\n",
      "Epoch 80/100\n",
      "50000/50000 [==============================] - 6s 116us/sample - loss: 0.2175 - acc: 0.9221 - val_loss: 0.6330 - val_acc: 0.8153\n",
      "Epoch 81/100\n",
      "50000/50000 [==============================] - 6s 117us/sample - loss: 0.2174 - acc: 0.9209 - val_loss: 0.6944 - val_acc: 0.8082\n",
      "Epoch 82/100\n",
      "50000/50000 [==============================] - 6s 116us/sample - loss: 0.2154 - acc: 0.9226 - val_loss: 0.6422 - val_acc: 0.8184\n",
      "Epoch 83/100\n",
      "50000/50000 [==============================] - 6s 116us/sample - loss: 0.2157 - acc: 0.9214 - val_loss: 0.6822 - val_acc: 0.8111\n",
      "Epoch 84/100\n",
      "50000/50000 [==============================] - 6s 116us/sample - loss: 0.2157 - acc: 0.9215 - val_loss: 0.6431 - val_acc: 0.8175\n",
      "Epoch 85/100\n",
      "50000/50000 [==============================] - 6s 116us/sample - loss: 0.2113 - acc: 0.9248 - val_loss: 0.6664 - val_acc: 0.8156\n",
      "Epoch 86/100\n",
      "50000/50000 [==============================] - 6s 116us/sample - loss: 0.2088 - acc: 0.9245 - val_loss: 0.6658 - val_acc: 0.8159\n",
      "Epoch 87/100\n",
      "50000/50000 [==============================] - 6s 116us/sample - loss: 0.2025 - acc: 0.9265 - val_loss: 0.6611 - val_acc: 0.8157\n",
      "Epoch 88/100\n",
      "50000/50000 [==============================] - 6s 116us/sample - loss: 0.2044 - acc: 0.9266 - val_loss: 0.6286 - val_acc: 0.8217\n",
      "Epoch 89/100\n",
      "50000/50000 [==============================] - 6s 116us/sample - loss: 0.1991 - acc: 0.9288 - val_loss: 0.7078 - val_acc: 0.8133\n",
      "Epoch 90/100\n",
      "50000/50000 [==============================] - 6s 116us/sample - loss: 0.1992 - acc: 0.9278 - val_loss: 0.6762 - val_acc: 0.8108\n",
      "Epoch 91/100\n",
      "50000/50000 [==============================] - 6s 116us/sample - loss: 0.1997 - acc: 0.9280 - val_loss: 0.6959 - val_acc: 0.8104\n",
      "Epoch 92/100\n",
      "50000/50000 [==============================] - 6s 116us/sample - loss: 0.1928 - acc: 0.9302 - val_loss: 0.6286 - val_acc: 0.8215\n",
      "Epoch 93/100\n",
      "50000/50000 [==============================] - 6s 116us/sample - loss: 0.1939 - acc: 0.9299 - val_loss: 0.6718 - val_acc: 0.8184\n",
      "Epoch 94/100\n",
      "50000/50000 [==============================] - 6s 116us/sample - loss: 0.1948 - acc: 0.9310 - val_loss: 0.6511 - val_acc: 0.8211\n",
      "Epoch 95/100\n",
      "50000/50000 [==============================] - 6s 116us/sample - loss: 0.1916 - acc: 0.9307 - val_loss: 0.6911 - val_acc: 0.8142\n",
      "Epoch 96/100\n",
      "50000/50000 [==============================] - 6s 116us/sample - loss: 0.1902 - acc: 0.9320 - val_loss: 0.6660 - val_acc: 0.8171\n",
      "Epoch 97/100\n",
      "50000/50000 [==============================] - 6s 116us/sample - loss: 0.1901 - acc: 0.9317 - val_loss: 0.6958 - val_acc: 0.8198\n",
      "Epoch 98/100\n",
      "50000/50000 [==============================] - 6s 116us/sample - loss: 0.1852 - acc: 0.9334 - val_loss: 0.6696 - val_acc: 0.8195\n",
      "Epoch 99/100\n",
      "50000/50000 [==============================] - 6s 116us/sample - loss: 0.1813 - acc: 0.9353 - val_loss: 0.6691 - val_acc: 0.8158\n",
      "Epoch 100/100\n",
      "50000/50000 [==============================] - 6s 115us/sample - loss: 0.1831 - acc: 0.9328 - val_loss: 0.7140 - val_acc: 0.8140\n"
     ]
    },
    {
     "data": {
      "text/plain": [
       "<tensorflow.python.keras.callbacks.History at 0x7f65e7cd5a58>"
      ]
     },
     "execution_count": 43,
     "metadata": {
      "tags": []
     },
     "output_type": "execute_result"
    }
   ],
   "source": [
    "model.fit(X_train,y_train, batch_size=1000,epochs=100,validation_data=(X_test,y_test))"
   ]
  },
  {
   "cell_type": "code",
   "execution_count": 0,
   "metadata": {
    "colab": {},
    "colab_type": "code",
    "id": "_1DfLQyyFaIN"
   },
   "outputs": [],
   "source": [
    "model.save(\"cifar-10-keras-colab.h5py\")"
   ]
  },
  {
   "cell_type": "code",
   "execution_count": 0,
   "metadata": {
    "colab": {},
    "colab_type": "code",
    "id": "yyLk-WHrFaIR"
   },
   "outputs": [],
   "source": [
    "# Code to load model later \n",
    "\n",
    "\n",
    "'''\n",
    "from tensorflow.keras.models import load_model\n",
    "new_model = load_model(\"models/cifar-10-keras.h5\")\n",
    "new_model.summary()\n",
    "new_model.optimizer()\n",
    "new_model.get_weights()\n",
    "'''"
   ]
  },
  {
   "cell_type": "code",
   "execution_count": 0,
   "metadata": {
    "colab": {},
    "colab_type": "code",
    "id": "fSDNmcGGFaIZ"
   },
   "outputs": [],
   "source": [
    "import cv2\n",
    "im = cv2.imread(\"test1.jpg\")\n"
   ]
  },
  {
   "cell_type": "code",
   "execution_count": 0,
   "metadata": {
    "colab": {},
    "colab_type": "code",
    "id": "8GkceMkKFaId"
   },
   "outputs": [],
   "source": [
    "# predict value\n",
    "def pred_result(img):\n",
    "    plt.imshow(img)\n",
    "    image = cv2.resize(img,(32, 32))\n",
    "    image = np.array(image, dtype=np.uint8)\n",
    "    image1 = image.reshape(1,32,32,3)\n",
    "    res = model.predict(x=image1)\n",
    "    print(res)\n",
    "    \n",
    "    def pre_val(res):\n",
    "        x = np.where(res == np.amax(res))\n",
    "        x=x[0]\n",
    "        print(x)\n",
    "        return tag[x[0]]\n",
    "    print(\"The Provided image is of a \")\n",
    "    print(pre_val(res[0]))\n",
    "    "
   ]
  },
  {
   "cell_type": "code",
   "execution_count": 0,
   "metadata": {
    "colab": {},
    "colab_type": "code",
    "id": "J12o9olzFaIg"
   },
   "outputs": [],
   "source": [
    "pred_result(im)"
   ]
  },
  {
   "cell_type": "code",
   "execution_count": 0,
   "metadata": {
    "colab": {},
    "colab_type": "code",
    "id": "5y5WfEMvFaIl"
   },
   "outputs": [],
   "source": [
    "im1 = cv2.imread(\"test2.jpg\")\n"
   ]
  },
  {
   "cell_type": "code",
   "execution_count": 0,
   "metadata": {
    "colab": {},
    "colab_type": "code",
    "id": "azduzjktFaIq"
   },
   "outputs": [],
   "source": [
    "pred_result(im1)"
   ]
  },
  {
   "cell_type": "code",
   "execution_count": 0,
   "metadata": {
    "colab": {},
    "colab_type": "code",
    "id": "4d7lHXMYFaIw"
   },
   "outputs": [],
   "source": [
    "im2 = cv2.imread(\"test4.jpg\")\n",
    "plt.imshow(im2)\n",
    "pred_result(im2)"
   ]
  },
  {
   "cell_type": "code",
   "execution_count": 1,
   "metadata": {
    "colab": {},
    "colab_type": "code",
    "id": "lsJrIArBFaI1"
   },
   "outputs": [
    {
     "name": "stdout",
     "output_type": "stream",
     "text": [
      "WARNING:tensorflow:From C:\\Anaconda3\\lib\\site-packages\\tensorflow\\python\\ops\\resource_variable_ops.py:435: colocate_with (from tensorflow.python.framework.ops) is deprecated and will be removed in a future version.\n",
      "Instructions for updating:\n",
      "Colocations handled automatically by placer.\n",
      "WARNING:tensorflow:From C:\\Anaconda3\\lib\\site-packages\\tensorflow\\python\\keras\\layers\\core.py:143: calling dropout (from tensorflow.python.ops.nn_ops) with keep_prob is deprecated and will be removed in a future version.\n",
      "Instructions for updating:\n",
      "Please use `rate` instead of `keep_prob`. Rate should be set to `rate = 1 - keep_prob`.\n"
     ]
    },
    {
     "ename": "TypeError",
     "evalue": "Unexpected keyword argument passed to optimizer: name",
     "output_type": "error",
     "traceback": [
      "\u001b[1;31m---------------------------------------------------------------------------\u001b[0m",
      "\u001b[1;31mTypeError\u001b[0m                                 Traceback (most recent call last)",
      "\u001b[1;32m<ipython-input-1-2cdec80c7599>\u001b[0m in \u001b[0;36m<module>\u001b[1;34m\u001b[0m\n\u001b[0;32m      1\u001b[0m \u001b[1;33m\u001b[0m\u001b[0m\n\u001b[0;32m      2\u001b[0m \u001b[1;32mfrom\u001b[0m \u001b[0mtensorflow\u001b[0m\u001b[1;33m.\u001b[0m\u001b[0mkeras\u001b[0m\u001b[1;33m.\u001b[0m\u001b[0mmodels\u001b[0m \u001b[1;32mimport\u001b[0m \u001b[0mload_model\u001b[0m\u001b[1;33m\u001b[0m\u001b[1;33m\u001b[0m\u001b[0m\n\u001b[1;32m----> 3\u001b[1;33m \u001b[0mnew_model\u001b[0m \u001b[1;33m=\u001b[0m \u001b[0mload_model\u001b[0m\u001b[1;33m(\u001b[0m\u001b[1;34m\"models/cifar-10-keras-colab.h5py\"\u001b[0m\u001b[1;33m)\u001b[0m\u001b[1;33m\u001b[0m\u001b[1;33m\u001b[0m\u001b[0m\n\u001b[0m\u001b[0;32m      4\u001b[0m \u001b[0mnew_model\u001b[0m\u001b[1;33m.\u001b[0m\u001b[0msummary\u001b[0m\u001b[1;33m(\u001b[0m\u001b[1;33m)\u001b[0m\u001b[1;33m\u001b[0m\u001b[1;33m\u001b[0m\u001b[0m\n",
      "\u001b[1;32mC:\\Anaconda3\\lib\\site-packages\\tensorflow\\python\\keras\\engine\\saving.py\u001b[0m in \u001b[0;36mload_model\u001b[1;34m(filepath, custom_objects, compile)\u001b[0m\n\u001b[0;32m    247\u001b[0m       \u001b[0moptimizer_config\u001b[0m \u001b[1;33m=\u001b[0m \u001b[0mtraining_config\u001b[0m\u001b[1;33m[\u001b[0m\u001b[1;34m'optimizer_config'\u001b[0m\u001b[1;33m]\u001b[0m\u001b[1;33m\u001b[0m\u001b[1;33m\u001b[0m\u001b[0m\n\u001b[0;32m    248\u001b[0m       optimizer = optimizers.deserialize(\n\u001b[1;32m--> 249\u001b[1;33m           optimizer_config, custom_objects=custom_objects)\n\u001b[0m\u001b[0;32m    250\u001b[0m \u001b[1;33m\u001b[0m\u001b[0m\n\u001b[0;32m    251\u001b[0m       \u001b[1;31m# Recover loss functions and metrics.\u001b[0m\u001b[1;33m\u001b[0m\u001b[1;33m\u001b[0m\u001b[1;33m\u001b[0m\u001b[0m\n",
      "\u001b[1;32mC:\\Anaconda3\\lib\\site-packages\\tensorflow\\python\\keras\\optimizers.py\u001b[0m in \u001b[0;36mdeserialize\u001b[1;34m(config, custom_objects)\u001b[0m\n\u001b[0;32m    836\u001b[0m       \u001b[0mmodule_objects\u001b[0m\u001b[1;33m=\u001b[0m\u001b[0mall_classes\u001b[0m\u001b[1;33m,\u001b[0m\u001b[1;33m\u001b[0m\u001b[1;33m\u001b[0m\u001b[0m\n\u001b[0;32m    837\u001b[0m       \u001b[0mcustom_objects\u001b[0m\u001b[1;33m=\u001b[0m\u001b[0mcustom_objects\u001b[0m\u001b[1;33m,\u001b[0m\u001b[1;33m\u001b[0m\u001b[1;33m\u001b[0m\u001b[0m\n\u001b[1;32m--> 838\u001b[1;33m       printable_module_name='optimizer')\n\u001b[0m\u001b[0;32m    839\u001b[0m \u001b[1;33m\u001b[0m\u001b[0m\n\u001b[0;32m    840\u001b[0m \u001b[1;33m\u001b[0m\u001b[0m\n",
      "\u001b[1;32mC:\\Anaconda3\\lib\\site-packages\\tensorflow\\python\\keras\\utils\\generic_utils.py\u001b[0m in \u001b[0;36mdeserialize_keras_object\u001b[1;34m(identifier, module_objects, custom_objects, printable_module_name)\u001b[0m\n\u001b[0;32m    192\u001b[0m                 list(custom_objects.items())))\n\u001b[0;32m    193\u001b[0m       \u001b[1;32mwith\u001b[0m \u001b[0mCustomObjectScope\u001b[0m\u001b[1;33m(\u001b[0m\u001b[0mcustom_objects\u001b[0m\u001b[1;33m)\u001b[0m\u001b[1;33m:\u001b[0m\u001b[1;33m\u001b[0m\u001b[1;33m\u001b[0m\u001b[0m\n\u001b[1;32m--> 194\u001b[1;33m         \u001b[1;32mreturn\u001b[0m \u001b[0mcls\u001b[0m\u001b[1;33m.\u001b[0m\u001b[0mfrom_config\u001b[0m\u001b[1;33m(\u001b[0m\u001b[0mcls_config\u001b[0m\u001b[1;33m)\u001b[0m\u001b[1;33m\u001b[0m\u001b[1;33m\u001b[0m\u001b[0m\n\u001b[0m\u001b[0;32m    195\u001b[0m     \u001b[1;32melse\u001b[0m\u001b[1;33m:\u001b[0m\u001b[1;33m\u001b[0m\u001b[1;33m\u001b[0m\u001b[0m\n\u001b[0;32m    196\u001b[0m       \u001b[1;31m# Then `cls` may be a function returning a class.\u001b[0m\u001b[1;33m\u001b[0m\u001b[1;33m\u001b[0m\u001b[1;33m\u001b[0m\u001b[0m\n",
      "\u001b[1;32mC:\\Anaconda3\\lib\\site-packages\\tensorflow\\python\\keras\\optimizers.py\u001b[0m in \u001b[0;36mfrom_config\u001b[1;34m(cls, config)\u001b[0m\n\u001b[0;32m    157\u001b[0m   \u001b[1;33m@\u001b[0m\u001b[0mclassmethod\u001b[0m\u001b[1;33m\u001b[0m\u001b[1;33m\u001b[0m\u001b[0m\n\u001b[0;32m    158\u001b[0m   \u001b[1;32mdef\u001b[0m \u001b[0mfrom_config\u001b[0m\u001b[1;33m(\u001b[0m\u001b[0mcls\u001b[0m\u001b[1;33m,\u001b[0m \u001b[0mconfig\u001b[0m\u001b[1;33m)\u001b[0m\u001b[1;33m:\u001b[0m\u001b[1;33m\u001b[0m\u001b[1;33m\u001b[0m\u001b[0m\n\u001b[1;32m--> 159\u001b[1;33m     \u001b[1;32mreturn\u001b[0m \u001b[0mcls\u001b[0m\u001b[1;33m(\u001b[0m\u001b[1;33m**\u001b[0m\u001b[0mconfig\u001b[0m\u001b[1;33m)\u001b[0m\u001b[1;33m\u001b[0m\u001b[1;33m\u001b[0m\u001b[0m\n\u001b[0m\u001b[0;32m    160\u001b[0m \u001b[1;33m\u001b[0m\u001b[0m\n\u001b[0;32m    161\u001b[0m \u001b[1;33m\u001b[0m\u001b[0m\n",
      "\u001b[1;32mC:\\Anaconda3\\lib\\site-packages\\tensorflow\\python\\keras\\optimizers.py\u001b[0m in \u001b[0;36m__init__\u001b[1;34m(self, lr, beta_1, beta_2, epsilon, decay, amsgrad, **kwargs)\u001b[0m\n\u001b[0;32m    469\u001b[0m                \u001b[0mamsgrad\u001b[0m\u001b[1;33m=\u001b[0m\u001b[1;32mFalse\u001b[0m\u001b[1;33m,\u001b[0m\u001b[1;33m\u001b[0m\u001b[1;33m\u001b[0m\u001b[0m\n\u001b[0;32m    470\u001b[0m                **kwargs):\n\u001b[1;32m--> 471\u001b[1;33m     \u001b[0msuper\u001b[0m\u001b[1;33m(\u001b[0m\u001b[0mAdam\u001b[0m\u001b[1;33m,\u001b[0m \u001b[0mself\u001b[0m\u001b[1;33m)\u001b[0m\u001b[1;33m.\u001b[0m\u001b[0m__init__\u001b[0m\u001b[1;33m(\u001b[0m\u001b[1;33m**\u001b[0m\u001b[0mkwargs\u001b[0m\u001b[1;33m)\u001b[0m\u001b[1;33m\u001b[0m\u001b[1;33m\u001b[0m\u001b[0m\n\u001b[0m\u001b[0;32m    472\u001b[0m     \u001b[1;32mwith\u001b[0m \u001b[0mK\u001b[0m\u001b[1;33m.\u001b[0m\u001b[0mname_scope\u001b[0m\u001b[1;33m(\u001b[0m\u001b[0mself\u001b[0m\u001b[1;33m.\u001b[0m\u001b[0m__class__\u001b[0m\u001b[1;33m.\u001b[0m\u001b[0m__name__\u001b[0m\u001b[1;33m)\u001b[0m\u001b[1;33m:\u001b[0m\u001b[1;33m\u001b[0m\u001b[1;33m\u001b[0m\u001b[0m\n\u001b[0;32m    473\u001b[0m       \u001b[0mself\u001b[0m\u001b[1;33m.\u001b[0m\u001b[0miterations\u001b[0m \u001b[1;33m=\u001b[0m \u001b[0mK\u001b[0m\u001b[1;33m.\u001b[0m\u001b[0mvariable\u001b[0m\u001b[1;33m(\u001b[0m\u001b[1;36m0\u001b[0m\u001b[1;33m,\u001b[0m \u001b[0mdtype\u001b[0m\u001b[1;33m=\u001b[0m\u001b[1;34m'int64'\u001b[0m\u001b[1;33m,\u001b[0m \u001b[0mname\u001b[0m\u001b[1;33m=\u001b[0m\u001b[1;34m'iterations'\u001b[0m\u001b[1;33m)\u001b[0m\u001b[1;33m\u001b[0m\u001b[1;33m\u001b[0m\u001b[0m\n",
      "\u001b[1;32mC:\\Anaconda3\\lib\\site-packages\\tensorflow\\python\\keras\\optimizers.py\u001b[0m in \u001b[0;36m__init__\u001b[1;34m(self, **kwargs)\u001b[0m\n\u001b[0;32m     66\u001b[0m       \u001b[1;32mif\u001b[0m \u001b[0mk\u001b[0m \u001b[1;32mnot\u001b[0m \u001b[1;32min\u001b[0m \u001b[0mallowed_kwargs\u001b[0m\u001b[1;33m:\u001b[0m\u001b[1;33m\u001b[0m\u001b[1;33m\u001b[0m\u001b[0m\n\u001b[0;32m     67\u001b[0m         raise TypeError('Unexpected keyword argument '\n\u001b[1;32m---> 68\u001b[1;33m                         'passed to optimizer: ' + str(k))\n\u001b[0m\u001b[0;32m     69\u001b[0m       \u001b[1;31m# checks that clipnorm >= 0 and clipvalue >= 0\u001b[0m\u001b[1;33m\u001b[0m\u001b[1;33m\u001b[0m\u001b[1;33m\u001b[0m\u001b[0m\n\u001b[0;32m     70\u001b[0m       \u001b[1;32mif\u001b[0m \u001b[0mkwargs\u001b[0m\u001b[1;33m[\u001b[0m\u001b[0mk\u001b[0m\u001b[1;33m]\u001b[0m \u001b[1;33m<\u001b[0m \u001b[1;36m0\u001b[0m\u001b[1;33m:\u001b[0m\u001b[1;33m\u001b[0m\u001b[1;33m\u001b[0m\u001b[0m\n",
      "\u001b[1;31mTypeError\u001b[0m: Unexpected keyword argument passed to optimizer: name"
     ]
    }
   ],
   "source": [
    "\n",
    "from tensorflow.keras.models import load_model\n",
    "new_model = load_model(\"models/cifar-10-keras-colab.h5py\")\n",
    "new_model.summary()"
   ]
  },
  {
   "cell_type": "code",
   "execution_count": 0,
   "metadata": {
    "colab": {},
    "colab_type": "code",
    "id": "LXgRfqJgFaI3"
   },
   "outputs": [],
   "source": []
  }
 ],
 "metadata": {
  "accelerator": "GPU",
  "colab": {
   "collapsed_sections": [],
   "name": "CIFAR-10 Keras and tensorflow.ipynb",
   "provenance": [],
   "toc_visible": true,
   "version": "0.3.2"
  },
  "kernelspec": {
   "display_name": "Python 3",
   "language": "python",
   "name": "python3"
  },
  "language_info": {
   "codemirror_mode": {
    "name": "ipython",
    "version": 3
   },
   "file_extension": ".py",
   "mimetype": "text/x-python",
   "name": "python",
   "nbconvert_exporter": "python",
   "pygments_lexer": "ipython3",
   "version": "3.7.3"
  }
 },
 "nbformat": 4,
 "nbformat_minor": 1
}
