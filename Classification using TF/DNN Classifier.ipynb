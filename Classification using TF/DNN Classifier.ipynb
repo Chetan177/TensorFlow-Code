{
 "cells": [
  {
   "cell_type": "markdown",
   "metadata": {},
   "source": [
    "We'll be working with some California Census Data, we'll be trying to use various features of an individual to predict what class of income they belogn in (>50k or <=50k). \n",
    "\n",
    "Here is some information about the data:\n",
    "<img src=\"info.png\" />"
   ]
  },
  {
   "cell_type": "code",
   "execution_count": 1,
   "metadata": {},
   "outputs": [],
   "source": [
    "import pandas as pd\n",
    "import matplotlib.pyplot as plt\n",
    "import tensorflow as tf\n"
   ]
  },
  {
   "cell_type": "markdown",
   "metadata": {},
   "source": [
    "### Training Data :"
   ]
  },
  {
   "cell_type": "code",
   "execution_count": 2,
   "metadata": {},
   "outputs": [],
   "source": [
    "data = pd.read_csv(\"census_data.csv\")"
   ]
  },
  {
   "cell_type": "code",
   "execution_count": 3,
   "metadata": {},
   "outputs": [
    {
     "data": {
      "text/html": [
       "<div>\n",
       "<style scoped>\n",
       "    .dataframe tbody tr th:only-of-type {\n",
       "        vertical-align: middle;\n",
       "    }\n",
       "\n",
       "    .dataframe tbody tr th {\n",
       "        vertical-align: top;\n",
       "    }\n",
       "\n",
       "    .dataframe thead th {\n",
       "        text-align: right;\n",
       "    }\n",
       "</style>\n",
       "<table border=\"1\" class=\"dataframe\">\n",
       "  <thead>\n",
       "    <tr style=\"text-align: right;\">\n",
       "      <th></th>\n",
       "      <th>age</th>\n",
       "      <th>workclass</th>\n",
       "      <th>education</th>\n",
       "      <th>education_num</th>\n",
       "      <th>marital_status</th>\n",
       "      <th>occupation</th>\n",
       "      <th>relationship</th>\n",
       "      <th>race</th>\n",
       "      <th>gender</th>\n",
       "      <th>capital_gain</th>\n",
       "      <th>capital_loss</th>\n",
       "      <th>hours_per_week</th>\n",
       "      <th>native_country</th>\n",
       "      <th>income_bracket</th>\n",
       "    </tr>\n",
       "  </thead>\n",
       "  <tbody>\n",
       "    <tr>\n",
       "      <th>0</th>\n",
       "      <td>39</td>\n",
       "      <td>State-gov</td>\n",
       "      <td>Bachelors</td>\n",
       "      <td>13</td>\n",
       "      <td>Never-married</td>\n",
       "      <td>Adm-clerical</td>\n",
       "      <td>Not-in-family</td>\n",
       "      <td>White</td>\n",
       "      <td>Male</td>\n",
       "      <td>2174</td>\n",
       "      <td>0</td>\n",
       "      <td>40</td>\n",
       "      <td>United-States</td>\n",
       "      <td>&lt;=50K</td>\n",
       "    </tr>\n",
       "    <tr>\n",
       "      <th>1</th>\n",
       "      <td>50</td>\n",
       "      <td>Self-emp-not-inc</td>\n",
       "      <td>Bachelors</td>\n",
       "      <td>13</td>\n",
       "      <td>Married-civ-spouse</td>\n",
       "      <td>Exec-managerial</td>\n",
       "      <td>Husband</td>\n",
       "      <td>White</td>\n",
       "      <td>Male</td>\n",
       "      <td>0</td>\n",
       "      <td>0</td>\n",
       "      <td>13</td>\n",
       "      <td>United-States</td>\n",
       "      <td>&lt;=50K</td>\n",
       "    </tr>\n",
       "    <tr>\n",
       "      <th>2</th>\n",
       "      <td>38</td>\n",
       "      <td>Private</td>\n",
       "      <td>HS-grad</td>\n",
       "      <td>9</td>\n",
       "      <td>Divorced</td>\n",
       "      <td>Handlers-cleaners</td>\n",
       "      <td>Not-in-family</td>\n",
       "      <td>White</td>\n",
       "      <td>Male</td>\n",
       "      <td>0</td>\n",
       "      <td>0</td>\n",
       "      <td>40</td>\n",
       "      <td>United-States</td>\n",
       "      <td>&lt;=50K</td>\n",
       "    </tr>\n",
       "    <tr>\n",
       "      <th>3</th>\n",
       "      <td>53</td>\n",
       "      <td>Private</td>\n",
       "      <td>11th</td>\n",
       "      <td>7</td>\n",
       "      <td>Married-civ-spouse</td>\n",
       "      <td>Handlers-cleaners</td>\n",
       "      <td>Husband</td>\n",
       "      <td>Black</td>\n",
       "      <td>Male</td>\n",
       "      <td>0</td>\n",
       "      <td>0</td>\n",
       "      <td>40</td>\n",
       "      <td>United-States</td>\n",
       "      <td>&lt;=50K</td>\n",
       "    </tr>\n",
       "    <tr>\n",
       "      <th>4</th>\n",
       "      <td>28</td>\n",
       "      <td>Private</td>\n",
       "      <td>Bachelors</td>\n",
       "      <td>13</td>\n",
       "      <td>Married-civ-spouse</td>\n",
       "      <td>Prof-specialty</td>\n",
       "      <td>Wife</td>\n",
       "      <td>Black</td>\n",
       "      <td>Female</td>\n",
       "      <td>0</td>\n",
       "      <td>0</td>\n",
       "      <td>40</td>\n",
       "      <td>Cuba</td>\n",
       "      <td>&lt;=50K</td>\n",
       "    </tr>\n",
       "  </tbody>\n",
       "</table>\n",
       "</div>"
      ],
      "text/plain": [
       "   age          workclass   education  education_num       marital_status  \\\n",
       "0   39          State-gov   Bachelors             13        Never-married   \n",
       "1   50   Self-emp-not-inc   Bachelors             13   Married-civ-spouse   \n",
       "2   38            Private     HS-grad              9             Divorced   \n",
       "3   53            Private        11th              7   Married-civ-spouse   \n",
       "4   28            Private   Bachelors             13   Married-civ-spouse   \n",
       "\n",
       "           occupation    relationship    race   gender  capital_gain  \\\n",
       "0        Adm-clerical   Not-in-family   White     Male          2174   \n",
       "1     Exec-managerial         Husband   White     Male             0   \n",
       "2   Handlers-cleaners   Not-in-family   White     Male             0   \n",
       "3   Handlers-cleaners         Husband   Black     Male             0   \n",
       "4      Prof-specialty            Wife   Black   Female             0   \n",
       "\n",
       "   capital_loss  hours_per_week  native_country income_bracket  \n",
       "0             0              40   United-States          <=50K  \n",
       "1             0              13   United-States          <=50K  \n",
       "2             0              40   United-States          <=50K  \n",
       "3             0              40   United-States          <=50K  \n",
       "4             0              40            Cuba          <=50K  "
      ]
     },
     "execution_count": 3,
     "metadata": {},
     "output_type": "execute_result"
    }
   ],
   "source": [
    "data.head()"
   ]
  },
  {
   "cell_type": "markdown",
   "metadata": {},
   "source": [
    "As the tensor flow cant not understand labels in string we need to convert them into numerical classes (0 and 1 for binary classification)"
   ]
  },
  {
   "cell_type": "code",
   "execution_count": 4,
   "metadata": {},
   "outputs": [
    {
     "data": {
      "text/plain": [
       "array([' <=50K', ' >50K'], dtype=object)"
      ]
     },
     "execution_count": 4,
     "metadata": {},
     "output_type": "execute_result"
    }
   ],
   "source": [
    "data[\"income_bracket\"].unique()"
   ]
  },
  {
   "cell_type": "code",
   "execution_count": 5,
   "metadata": {},
   "outputs": [
    {
     "data": {
      "text/plain": [
       "0"
      ]
     },
     "execution_count": 5,
     "metadata": {},
     "output_type": "execute_result"
    }
   ],
   "source": [
    "data[\"income_bracket\"].isnull().sum()"
   ]
  },
  {
   "cell_type": "code",
   "execution_count": 6,
   "metadata": {},
   "outputs": [],
   "source": [
    "# Label converter function:\n",
    "def set_label(x):\n",
    "    if x == \" <=50K\":\n",
    "        return 0\n",
    "    else:\n",
    "        return 1"
   ]
  },
  {
   "cell_type": "code",
   "execution_count": 7,
   "metadata": {},
   "outputs": [],
   "source": [
    "data[\"income_bracket\"] = data[\"income_bracket\"].apply(set_label)"
   ]
  },
  {
   "cell_type": "code",
   "execution_count": 8,
   "metadata": {},
   "outputs": [
    {
     "data": {
      "text/html": [
       "<div>\n",
       "<style scoped>\n",
       "    .dataframe tbody tr th:only-of-type {\n",
       "        vertical-align: middle;\n",
       "    }\n",
       "\n",
       "    .dataframe tbody tr th {\n",
       "        vertical-align: top;\n",
       "    }\n",
       "\n",
       "    .dataframe thead th {\n",
       "        text-align: right;\n",
       "    }\n",
       "</style>\n",
       "<table border=\"1\" class=\"dataframe\">\n",
       "  <thead>\n",
       "    <tr style=\"text-align: right;\">\n",
       "      <th></th>\n",
       "      <th>age</th>\n",
       "      <th>workclass</th>\n",
       "      <th>education</th>\n",
       "      <th>education_num</th>\n",
       "      <th>marital_status</th>\n",
       "      <th>occupation</th>\n",
       "      <th>relationship</th>\n",
       "      <th>race</th>\n",
       "      <th>gender</th>\n",
       "      <th>capital_gain</th>\n",
       "      <th>capital_loss</th>\n",
       "      <th>hours_per_week</th>\n",
       "      <th>native_country</th>\n",
       "      <th>income_bracket</th>\n",
       "    </tr>\n",
       "  </thead>\n",
       "  <tbody>\n",
       "    <tr>\n",
       "      <th>0</th>\n",
       "      <td>39</td>\n",
       "      <td>State-gov</td>\n",
       "      <td>Bachelors</td>\n",
       "      <td>13</td>\n",
       "      <td>Never-married</td>\n",
       "      <td>Adm-clerical</td>\n",
       "      <td>Not-in-family</td>\n",
       "      <td>White</td>\n",
       "      <td>Male</td>\n",
       "      <td>2174</td>\n",
       "      <td>0</td>\n",
       "      <td>40</td>\n",
       "      <td>United-States</td>\n",
       "      <td>0</td>\n",
       "    </tr>\n",
       "    <tr>\n",
       "      <th>1</th>\n",
       "      <td>50</td>\n",
       "      <td>Self-emp-not-inc</td>\n",
       "      <td>Bachelors</td>\n",
       "      <td>13</td>\n",
       "      <td>Married-civ-spouse</td>\n",
       "      <td>Exec-managerial</td>\n",
       "      <td>Husband</td>\n",
       "      <td>White</td>\n",
       "      <td>Male</td>\n",
       "      <td>0</td>\n",
       "      <td>0</td>\n",
       "      <td>13</td>\n",
       "      <td>United-States</td>\n",
       "      <td>0</td>\n",
       "    </tr>\n",
       "    <tr>\n",
       "      <th>2</th>\n",
       "      <td>38</td>\n",
       "      <td>Private</td>\n",
       "      <td>HS-grad</td>\n",
       "      <td>9</td>\n",
       "      <td>Divorced</td>\n",
       "      <td>Handlers-cleaners</td>\n",
       "      <td>Not-in-family</td>\n",
       "      <td>White</td>\n",
       "      <td>Male</td>\n",
       "      <td>0</td>\n",
       "      <td>0</td>\n",
       "      <td>40</td>\n",
       "      <td>United-States</td>\n",
       "      <td>0</td>\n",
       "    </tr>\n",
       "    <tr>\n",
       "      <th>3</th>\n",
       "      <td>53</td>\n",
       "      <td>Private</td>\n",
       "      <td>11th</td>\n",
       "      <td>7</td>\n",
       "      <td>Married-civ-spouse</td>\n",
       "      <td>Handlers-cleaners</td>\n",
       "      <td>Husband</td>\n",
       "      <td>Black</td>\n",
       "      <td>Male</td>\n",
       "      <td>0</td>\n",
       "      <td>0</td>\n",
       "      <td>40</td>\n",
       "      <td>United-States</td>\n",
       "      <td>0</td>\n",
       "    </tr>\n",
       "    <tr>\n",
       "      <th>4</th>\n",
       "      <td>28</td>\n",
       "      <td>Private</td>\n",
       "      <td>Bachelors</td>\n",
       "      <td>13</td>\n",
       "      <td>Married-civ-spouse</td>\n",
       "      <td>Prof-specialty</td>\n",
       "      <td>Wife</td>\n",
       "      <td>Black</td>\n",
       "      <td>Female</td>\n",
       "      <td>0</td>\n",
       "      <td>0</td>\n",
       "      <td>40</td>\n",
       "      <td>Cuba</td>\n",
       "      <td>0</td>\n",
       "    </tr>\n",
       "  </tbody>\n",
       "</table>\n",
       "</div>"
      ],
      "text/plain": [
       "   age          workclass   education  education_num       marital_status  \\\n",
       "0   39          State-gov   Bachelors             13        Never-married   \n",
       "1   50   Self-emp-not-inc   Bachelors             13   Married-civ-spouse   \n",
       "2   38            Private     HS-grad              9             Divorced   \n",
       "3   53            Private        11th              7   Married-civ-spouse   \n",
       "4   28            Private   Bachelors             13   Married-civ-spouse   \n",
       "\n",
       "           occupation    relationship    race   gender  capital_gain  \\\n",
       "0        Adm-clerical   Not-in-family   White     Male          2174   \n",
       "1     Exec-managerial         Husband   White     Male             0   \n",
       "2   Handlers-cleaners   Not-in-family   White     Male             0   \n",
       "3   Handlers-cleaners         Husband   Black     Male             0   \n",
       "4      Prof-specialty            Wife   Black   Female             0   \n",
       "\n",
       "   capital_loss  hours_per_week  native_country  income_bracket  \n",
       "0             0              40   United-States               0  \n",
       "1             0              13   United-States               0  \n",
       "2             0              40   United-States               0  \n",
       "3             0              40   United-States               0  \n",
       "4             0              40            Cuba               0  "
      ]
     },
     "execution_count": 8,
     "metadata": {},
     "output_type": "execute_result"
    }
   ],
   "source": [
    "data.head()"
   ]
  },
  {
   "cell_type": "code",
   "execution_count": 9,
   "metadata": {},
   "outputs": [
    {
     "data": {
      "text/plain": [
       "(32561, 14)"
      ]
     },
     "execution_count": 9,
     "metadata": {},
     "output_type": "execute_result"
    }
   ],
   "source": [
    "data.shape"
   ]
  },
  {
   "cell_type": "markdown",
   "metadata": {},
   "source": [
    "## Data Visualization:"
   ]
  },
  {
   "cell_type": "code",
   "execution_count": 9,
   "metadata": {},
   "outputs": [
    {
     "data": {
      "text/plain": [
       "<matplotlib.axes._subplots.AxesSubplot at 0x20522d889e8>"
      ]
     },
     "execution_count": 9,
     "metadata": {},
     "output_type": "execute_result"
    },
    {
     "data": {
      "image/png": "[encoded data removed]",
      "text/plain": [
       "<Figure size 432x288 with 1 Axes>"
      ]
     },
     "metadata": {
      "needs_background": "light"
     },
     "output_type": "display_data"
    }
   ],
   "source": [
    "data[\"income_bracket\"].plot.hist(bins=10) # We can clearly see that class 0 has more example than class a in training data"
   ]
  },
  {
   "cell_type": "code",
   "execution_count": 10,
   "metadata": {},
   "outputs": [
    {
     "data": {
      "text/plain": [
       "<matplotlib.axes._subplots.AxesSubplot at 0x205230d45c0>"
      ]
     },
     "execution_count": 10,
     "metadata": {},
     "output_type": "execute_result"
    },
    {
     "data": {
      "image/png": "[encoded data removed]",
      "text/plain": [
       "<Figure size 432x288 with 1 Axes>"
      ]
     },
     "metadata": {
      "needs_background": "light"
     },
     "output_type": "display_data"
    }
   ],
   "source": [
    "data[\"age\"].plot.hist(bins=20)"
   ]
  },
  {
   "cell_type": "code",
   "execution_count": 52,
   "metadata": {},
   "outputs": [
    {
     "data": {
      "text/plain": [
       "<BarContainer object of 32561 artists>"
      ]
     },
     "execution_count": 52,
     "metadata": {},
     "output_type": "execute_result"
    },
    {
     "data": {
      "image/png": "[encoded data removed]",
      "text/plain": [
       "<Figure size 720x720 with 1 Axes>"
      ]
     },
     "metadata": {
      "needs_background": "light"
     },
     "output_type": "display_data"
    }
   ],
   "source": [
    "plt.figure(figsize=(10,10))\n",
    "plt.bar(data['hours_per_week'],data['age'])"
   ]
  },
  {
   "cell_type": "markdown",
   "metadata": {},
   "source": [
    "### Train Test split"
   ]
  },
  {
   "cell_type": "code",
   "execution_count": 10,
   "metadata": {},
   "outputs": [],
   "source": [
    "from sklearn.model_selection import train_test_split"
   ]
  },
  {
   "cell_type": "code",
   "execution_count": 11,
   "metadata": {},
   "outputs": [],
   "source": [
    "X = data.drop(\"income_bracket\",axis = 1)"
   ]
  },
  {
   "cell_type": "code",
   "execution_count": 12,
   "metadata": {},
   "outputs": [],
   "source": [
    "y = data[\"income_bracket\"]"
   ]
  },
  {
   "cell_type": "code",
   "execution_count": 13,
   "metadata": {},
   "outputs": [
    {
     "data": {
      "text/html": [
       "<div>\n",
       "<style scoped>\n",
       "    .dataframe tbody tr th:only-of-type {\n",
       "        vertical-align: middle;\n",
       "    }\n",
       "\n",
       "    .dataframe tbody tr th {\n",
       "        vertical-align: top;\n",
       "    }\n",
       "\n",
       "    .dataframe thead th {\n",
       "        text-align: right;\n",
       "    }\n",
       "</style>\n",
       "<table border=\"1\" class=\"dataframe\">\n",
       "  <thead>\n",
       "    <tr style=\"text-align: right;\">\n",
       "      <th></th>\n",
       "      <th>age</th>\n",
       "      <th>workclass</th>\n",
       "      <th>education</th>\n",
       "      <th>education_num</th>\n",
       "      <th>marital_status</th>\n",
       "      <th>occupation</th>\n",
       "      <th>relationship</th>\n",
       "      <th>race</th>\n",
       "      <th>gender</th>\n",
       "      <th>capital_gain</th>\n",
       "      <th>capital_loss</th>\n",
       "      <th>hours_per_week</th>\n",
       "      <th>native_country</th>\n",
       "    </tr>\n",
       "  </thead>\n",
       "  <tbody>\n",
       "    <tr>\n",
       "      <th>0</th>\n",
       "      <td>39</td>\n",
       "      <td>State-gov</td>\n",
       "      <td>Bachelors</td>\n",
       "      <td>13</td>\n",
       "      <td>Never-married</td>\n",
       "      <td>Adm-clerical</td>\n",
       "      <td>Not-in-family</td>\n",
       "      <td>White</td>\n",
       "      <td>Male</td>\n",
       "      <td>2174</td>\n",
       "      <td>0</td>\n",
       "      <td>40</td>\n",
       "      <td>United-States</td>\n",
       "    </tr>\n",
       "    <tr>\n",
       "      <th>1</th>\n",
       "      <td>50</td>\n",
       "      <td>Self-emp-not-inc</td>\n",
       "      <td>Bachelors</td>\n",
       "      <td>13</td>\n",
       "      <td>Married-civ-spouse</td>\n",
       "      <td>Exec-managerial</td>\n",
       "      <td>Husband</td>\n",
       "      <td>White</td>\n",
       "      <td>Male</td>\n",
       "      <td>0</td>\n",
       "      <td>0</td>\n",
       "      <td>13</td>\n",
       "      <td>United-States</td>\n",
       "    </tr>\n",
       "    <tr>\n",
       "      <th>2</th>\n",
       "      <td>38</td>\n",
       "      <td>Private</td>\n",
       "      <td>HS-grad</td>\n",
       "      <td>9</td>\n",
       "      <td>Divorced</td>\n",
       "      <td>Handlers-cleaners</td>\n",
       "      <td>Not-in-family</td>\n",
       "      <td>White</td>\n",
       "      <td>Male</td>\n",
       "      <td>0</td>\n",
       "      <td>0</td>\n",
       "      <td>40</td>\n",
       "      <td>United-States</td>\n",
       "    </tr>\n",
       "    <tr>\n",
       "      <th>3</th>\n",
       "      <td>53</td>\n",
       "      <td>Private</td>\n",
       "      <td>11th</td>\n",
       "      <td>7</td>\n",
       "      <td>Married-civ-spouse</td>\n",
       "      <td>Handlers-cleaners</td>\n",
       "      <td>Husband</td>\n",
       "      <td>Black</td>\n",
       "      <td>Male</td>\n",
       "      <td>0</td>\n",
       "      <td>0</td>\n",
       "      <td>40</td>\n",
       "      <td>United-States</td>\n",
       "    </tr>\n",
       "    <tr>\n",
       "      <th>4</th>\n",
       "      <td>28</td>\n",
       "      <td>Private</td>\n",
       "      <td>Bachelors</td>\n",
       "      <td>13</td>\n",
       "      <td>Married-civ-spouse</td>\n",
       "      <td>Prof-specialty</td>\n",
       "      <td>Wife</td>\n",
       "      <td>Black</td>\n",
       "      <td>Female</td>\n",
       "      <td>0</td>\n",
       "      <td>0</td>\n",
       "      <td>40</td>\n",
       "      <td>Cuba</td>\n",
       "    </tr>\n",
       "  </tbody>\n",
       "</table>\n",
       "</div>"
      ],
      "text/plain": [
       "   age          workclass   education  education_num       marital_status  \\\n",
       "0   39          State-gov   Bachelors             13        Never-married   \n",
       "1   50   Self-emp-not-inc   Bachelors             13   Married-civ-spouse   \n",
       "2   38            Private     HS-grad              9             Divorced   \n",
       "3   53            Private        11th              7   Married-civ-spouse   \n",
       "4   28            Private   Bachelors             13   Married-civ-spouse   \n",
       "\n",
       "           occupation    relationship    race   gender  capital_gain  \\\n",
       "0        Adm-clerical   Not-in-family   White     Male          2174   \n",
       "1     Exec-managerial         Husband   White     Male             0   \n",
       "2   Handlers-cleaners   Not-in-family   White     Male             0   \n",
       "3   Handlers-cleaners         Husband   Black     Male             0   \n",
       "4      Prof-specialty            Wife   Black   Female             0   \n",
       "\n",
       "   capital_loss  hours_per_week  native_country  \n",
       "0             0              40   United-States  \n",
       "1             0              13   United-States  \n",
       "2             0              40   United-States  \n",
       "3             0              40   United-States  \n",
       "4             0              40            Cuba  "
      ]
     },
     "execution_count": 13,
     "metadata": {},
     "output_type": "execute_result"
    }
   ],
   "source": [
    "X.head()"
   ]
  },
  {
   "cell_type": "code",
   "execution_count": 14,
   "metadata": {},
   "outputs": [
    {
     "data": {
      "text/plain": [
       "0    0\n",
       "1    0\n",
       "2    0\n",
       "3    0\n",
       "4    0\n",
       "Name: income_bracket, dtype: int64"
      ]
     },
     "execution_count": 14,
     "metadata": {},
     "output_type": "execute_result"
    }
   ],
   "source": [
    "y.head()"
   ]
  },
  {
   "cell_type": "code",
   "execution_count": 15,
   "metadata": {},
   "outputs": [],
   "source": [
    "X_train,X_test,y_train,y_test = train_test_split(X,y,test_size = 0.3)"
   ]
  },
  {
   "cell_type": "code",
   "execution_count": 16,
   "metadata": {},
   "outputs": [
    {
     "data": {
      "text/plain": [
       "(22792, 13)"
      ]
     },
     "execution_count": 16,
     "metadata": {},
     "output_type": "execute_result"
    }
   ],
   "source": [
    "X_train.shape"
   ]
  },
  {
   "cell_type": "code",
   "execution_count": 17,
   "metadata": {},
   "outputs": [
    {
     "data": {
      "text/plain": [
       "Index(['age', 'workclass', 'education', 'education_num', 'marital_status',\n",
       "       'occupation', 'relationship', 'race', 'gender', 'capital_gain',\n",
       "       'capital_loss', 'hours_per_week', 'native_country'],\n",
       "      dtype='object')"
      ]
     },
     "execution_count": 17,
     "metadata": {},
     "output_type": "execute_result"
    }
   ],
   "source": [
    "X_train.columns"
   ]
  },
  {
   "cell_type": "code",
   "execution_count": 18,
   "metadata": {},
   "outputs": [
    {
     "name": "stdout",
     "output_type": "stream",
     "text": [
      "<class 'pandas.core.frame.DataFrame'>\n",
      "RangeIndex: 32561 entries, 0 to 32560\n",
      "Data columns (total 14 columns):\n",
      "age               32561 non-null int64\n",
      "workclass         32561 non-null object\n",
      "education         32561 non-null object\n",
      "education_num     32561 non-null int64\n",
      "marital_status    32561 non-null object\n",
      "occupation        32561 non-null object\n",
      "relationship      32561 non-null object\n",
      "race              32561 non-null object\n",
      "gender            32561 non-null object\n",
      "capital_gain      32561 non-null int64\n",
      "capital_loss      32561 non-null int64\n",
      "hours_per_week    32561 non-null int64\n",
      "native_country    32561 non-null object\n",
      "income_bracket    32561 non-null int64\n",
      "dtypes: int64(6), object(8)\n",
      "memory usage: 3.5+ MB\n"
     ]
    }
   ],
   "source": [
    "data.info()"
   ]
  },
  {
   "cell_type": "code",
   "execution_count": 19,
   "metadata": {},
   "outputs": [],
   "source": [
    "col_cat = [ 'workclass', 'education', 'marital_status',\n",
    "       'occupation', 'relationship', 'race', 'gender', 'native_country']"
   ]
  },
  {
   "cell_type": "code",
   "execution_count": 20,
   "metadata": {},
   "outputs": [],
   "source": [
    "col_num = ['age','education_num','capital_gain',\n",
    "       'capital_loss', 'hours_per_week']"
   ]
  },
  {
   "cell_type": "code",
   "execution_count": 29,
   "metadata": {},
   "outputs": [
    {
     "name": "stdout",
     "output_type": "stream",
     "text": [
      "workclass\n",
      "9\n",
      "\n",
      "\n",
      "education\n",
      "16\n",
      "\n",
      "\n",
      "marital_status\n",
      "7\n",
      "\n",
      "\n",
      "occupation\n",
      "15\n",
      "\n",
      "\n",
      "relationship\n",
      "6\n",
      "\n",
      "\n",
      "race\n",
      "5\n",
      "\n",
      "\n",
      "gender\n",
      "2\n",
      "\n",
      "\n",
      "native_country\n",
      "42\n",
      "\n",
      "\n"
     ]
    }
   ],
   "source": [
    "# Checking the unique values in columns for hash bucket\n",
    "dim =[]\n",
    "for i in  col_cat:\n",
    "    print(i)\n",
    "    print(data[i].unique().size)\n",
    "    dim.append(data[i].unique().size)\n",
    "    print('\\n')"
   ]
  },
  {
   "cell_type": "code",
   "execution_count": 30,
   "metadata": {},
   "outputs": [
    {
     "data": {
      "text/plain": [
       "[9, 16, 7, 15, 6, 5, 2, 42]"
      ]
     },
     "execution_count": 30,
     "metadata": {},
     "output_type": "execute_result"
    }
   ],
   "source": [
    "dim"
   ]
  },
  {
   "cell_type": "code",
   "execution_count": 26,
   "metadata": {},
   "outputs": [],
   "source": [
    "# Creating Categorical feature columns \n",
    "wc = tf.feature_column.categorical_column_with_hash_bucket(col_cat[0],hash_bucket_size=10)\n",
    "edu = tf.feature_column.categorical_column_with_hash_bucket(col_cat[1],hash_bucket_size=20)\n",
    "ms = tf.feature_column.categorical_column_with_hash_bucket(col_cat[2],hash_bucket_size=10)\n",
    "occ = tf.feature_column.categorical_column_with_hash_bucket(col_cat[3],hash_bucket_size=20)\n",
    "real = tf.feature_column.categorical_column_with_hash_bucket(col_cat[4],hash_bucket_size=10)\n",
    "race = tf.feature_column.categorical_column_with_hash_bucket(col_cat[5],hash_bucket_size=10)\n",
    "gender = tf.feature_column.categorical_column_with_hash_bucket(col_cat[6],hash_bucket_size=3)\n",
    "nat_con = tf.feature_column.categorical_column_with_hash_bucket(col_cat[7],hash_bucket_size=45)"
   ]
  },
  {
   "cell_type": "code",
   "execution_count": 23,
   "metadata": {},
   "outputs": [],
   "source": [
    "# Creating Numerical columns\n",
    "\n",
    "age = tf.feature_column.numeric_column(col_num[0])\n",
    "edu_num = tf.feature_column.numeric_column(col_num[1])\n",
    "cpt_gain = tf.feature_column.numeric_column(col_num[2])\n",
    "cpt_loss = tf.feature_column.numeric_column(col_num[3])\n",
    "hpw = tf.feature_column.numeric_column(col_num[4])"
   ]
  },
  {
   "cell_type": "markdown",
   "metadata": {},
   "source": [
    "### As The DNN classifier cant use categorical columns we need to use embeddings"
   ]
  },
  {
   "cell_type": "code",
   "execution_count": 31,
   "metadata": {},
   "outputs": [],
   "source": [
    "# Creating embeddings of categorical features\n",
    "wc_emb = tf.feature_column.embedding_column(wc,dimension=dim[0])\n",
    "edu_emb = tf.feature_column.embedding_column(edu,dimension=dim[1])\n",
    "ms_emb = tf.feature_column.embedding_column(ms,dimension=dim[2])\n",
    "occ_emb = tf.feature_column.embedding_column(occ,dimension=dim[3])\n",
    "real_emb = tf.feature_column.embedding_column(real,dimension=dim[4])\n",
    "race_emb = tf.feature_column.embedding_column(race,dimension=dim[5])\n",
    "gender_emb = tf.feature_column.embedding_column(gender,dimension=dim[6])\n",
    "nat_con_emb = tf.feature_column.embedding_column(nat_con,dimension=dim[7])"
   ]
  },
  {
   "cell_type": "code",
   "execution_count": 32,
   "metadata": {},
   "outputs": [],
   "source": [
    "features= [age,edu_num,cpt_gain,cpt_loss,hpw,wc_emb,edu_emb,ms_emb,occ_emb,real_emb,race_emb,gender_emb,nat_con_emb]"
   ]
  },
  {
   "cell_type": "code",
   "execution_count": 33,
   "metadata": {},
   "outputs": [],
   "source": [
    "# Input function for training\n",
    "input_fun_train = tf.estimator.inputs.pandas_input_fn(x=X_train,y=y_train,batch_size=200,num_epochs=1000,shuffle=True)"
   ]
  },
  {
   "cell_type": "code",
   "execution_count": 34,
   "metadata": {},
   "outputs": [],
   "source": [
    "# Input function for evalution\n",
    "input_fun_eval = tf.estimator.inputs.pandas_input_fn(x=X_test,y=y_test,batch_size=200,num_epochs=1,shuffle=False)"
   ]
  },
  {
   "cell_type": "code",
   "execution_count": 35,
   "metadata": {},
   "outputs": [
    {
     "name": "stdout",
     "output_type": "stream",
     "text": [
      "INFO:tensorflow:Using default config.\n",
      "WARNING:tensorflow:Using temporary folder as model directory: C:\\Users\\cheta\\AppData\\Local\\Temp\\tmpeu_1d0ae\n",
      "INFO:tensorflow:Using config: {'_model_dir': 'C:\\\\Users\\\\cheta\\\\AppData\\\\Local\\\\Temp\\\\tmpeu_1d0ae', '_tf_random_seed': None, '_save_summary_steps': 100, '_save_checkpoints_steps': None, '_save_checkpoints_secs': 600, '_session_config': allow_soft_placement: true\n",
      "graph_options {\n",
      "  rewrite_options {\n",
      "    meta_optimizer_iterations: ONE\n",
      "  }\n",
      "}\n",
      ", '_keep_checkpoint_max': 5, '_keep_checkpoint_every_n_hours': 10000, '_log_step_count_steps': 100, '_train_distribute': None, '_device_fn': None, '_protocol': None, '_eval_distribute': None, '_experimental_distribute': None, '_service': None, '_cluster_spec': <tensorflow.python.training.server_lib.ClusterSpec object at 0x000001BD47548BE0>, '_task_type': 'worker', '_task_id': 0, '_global_id_in_cluster': 0, '_master': '', '_evaluation_master': '', '_is_chief': True, '_num_ps_replicas': 0, '_num_worker_replicas': 1}\n"
     ]
    }
   ],
   "source": [
    "model_DNN = tf.estimator.DNNClassifier([13,13,13,13],feature_columns=features,n_classes=2)"
   ]
  },
  {
   "cell_type": "code",
   "execution_count": 42,
   "metadata": {},
   "outputs": [
    {
     "name": "stdout",
     "output_type": "stream",
     "text": [
      "INFO:tensorflow:Calling model_fn.\n",
      "INFO:tensorflow:Done calling model_fn.\n",
      "INFO:tensorflow:Create CheckpointSaverHook.\n",
      "INFO:tensorflow:Graph was finalized.\n",
      "INFO:tensorflow:Restoring parameters from C:\\Users\\cheta\\AppData\\Local\\Temp\\tmpeu_1d0ae\\model.ckpt-11000\n",
      "INFO:tensorflow:Running local_init_op.\n",
      "INFO:tensorflow:Done running local_init_op.\n",
      "INFO:tensorflow:Saving checkpoints for 11000 into C:\\Users\\cheta\\AppData\\Local\\Temp\\tmpeu_1d0ae\\model.ckpt.\n",
      "INFO:tensorflow:loss = 49.24441, step = 11001\n",
      "INFO:tensorflow:global_step/sec: 54.0979\n",
      "INFO:tensorflow:loss = 63.36199, step = 11101 (1.851 sec)\n",
      "INFO:tensorflow:global_step/sec: 122.726\n",
      "INFO:tensorflow:loss = 52.76559, step = 11201 (0.816 sec)\n",
      "INFO:tensorflow:global_step/sec: 133.157\n",
      "INFO:tensorflow:loss = 57.70043, step = 11301 (0.748 sec)\n",
      "INFO:tensorflow:global_step/sec: 131.068\n",
      "INFO:tensorflow:loss = 72.3068, step = 11401 (0.764 sec)\n",
      "INFO:tensorflow:global_step/sec: 117.962\n",
      "INFO:tensorflow:loss = 67.84422, step = 11501 (0.848 sec)\n",
      "INFO:tensorflow:global_step/sec: 125.098\n",
      "INFO:tensorflow:loss = 65.20241, step = 11601 (0.799 sec)\n",
      "INFO:tensorflow:global_step/sec: 133.244\n",
      "INFO:tensorflow:loss = 59.354225, step = 11701 (0.751 sec)\n",
      "INFO:tensorflow:global_step/sec: 132.105\n",
      "INFO:tensorflow:loss = 48.49479, step = 11801 (0.757 sec)\n",
      "INFO:tensorflow:global_step/sec: 132.105\n",
      "INFO:tensorflow:loss = 54.069847, step = 11901 (0.760 sec)\n",
      "INFO:tensorflow:global_step/sec: 132.105\n",
      "INFO:tensorflow:loss = 58.590252, step = 12001 (0.757 sec)\n",
      "INFO:tensorflow:global_step/sec: 140.038\n",
      "INFO:tensorflow:loss = 60.533226, step = 12101 (0.712 sec)\n",
      "INFO:tensorflow:global_step/sec: 127.567\n",
      "INFO:tensorflow:loss = 62.76493, step = 12201 (0.785 sec)\n",
      "INFO:tensorflow:global_step/sec: 125.806\n",
      "INFO:tensorflow:loss = 50.797844, step = 12301 (0.793 sec)\n",
      "INFO:tensorflow:global_step/sec: 125.178\n",
      "INFO:tensorflow:loss = 61.39812, step = 12401 (0.800 sec)\n",
      "INFO:tensorflow:global_step/sec: 103.262\n",
      "INFO:tensorflow:loss = 51.562614, step = 12501 (0.967 sec)\n",
      "INFO:tensorflow:global_step/sec: 113.941\n",
      "INFO:tensorflow:loss = 46.436405, step = 12601 (0.878 sec)\n",
      "INFO:tensorflow:global_step/sec: 130.049\n",
      "INFO:tensorflow:loss = 62.700874, step = 12701 (0.770 sec)\n",
      "INFO:tensorflow:global_step/sec: 134.587\n",
      "INFO:tensorflow:loss = 68.273094, step = 12801 (0.743 sec)\n",
      "INFO:tensorflow:global_step/sec: 113.169\n",
      "INFO:tensorflow:loss = 54.294353, step = 12901 (0.884 sec)\n",
      "INFO:tensorflow:global_step/sec: 113.425\n",
      "INFO:tensorflow:loss = 57.016174, step = 13001 (0.881 sec)\n",
      "INFO:tensorflow:global_step/sec: 125.178\n",
      "INFO:tensorflow:loss = 56.899124, step = 13101 (0.802 sec)\n",
      "INFO:tensorflow:global_step/sec: 134.587\n",
      "INFO:tensorflow:loss = 73.97164, step = 13201 (0.740 sec)\n",
      "INFO:tensorflow:global_step/sec: 115.516\n",
      "INFO:tensorflow:loss = 67.67709, step = 13301 (0.866 sec)\n",
      "INFO:tensorflow:global_step/sec: 114.07\n",
      "INFO:tensorflow:loss = 57.33008, step = 13401 (0.877 sec)\n",
      "INFO:tensorflow:global_step/sec: 130.557\n",
      "INFO:tensorflow:loss = 58.147774, step = 13501 (0.768 sec)\n",
      "INFO:tensorflow:global_step/sec: 123.94\n",
      "INFO:tensorflow:loss = 53.903328, step = 13601 (0.806 sec)\n",
      "INFO:tensorflow:global_step/sec: 123.482\n",
      "INFO:tensorflow:loss = 62.102036, step = 13701 (0.811 sec)\n",
      "INFO:tensorflow:global_step/sec: 129.207\n",
      "INFO:tensorflow:loss = 52.82463, step = 13801 (0.772 sec)\n",
      "INFO:tensorflow:global_step/sec: 125.491\n",
      "INFO:tensorflow:loss = 63.10363, step = 13901 (0.798 sec)\n",
      "INFO:tensorflow:global_step/sec: 122.648\n",
      "INFO:tensorflow:loss = 59.86196, step = 14001 (0.814 sec)\n",
      "INFO:tensorflow:global_step/sec: 123.482\n",
      "INFO:tensorflow:loss = 66.74313, step = 14101 (0.813 sec)\n",
      "INFO:tensorflow:global_step/sec: 112.03\n",
      "INFO:tensorflow:loss = 51.7265, step = 14201 (0.890 sec)\n",
      "INFO:tensorflow:global_step/sec: 110.915\n",
      "INFO:tensorflow:loss = 62.425064, step = 14301 (0.902 sec)\n",
      "INFO:tensorflow:global_step/sec: 117.823\n",
      "INFO:tensorflow:loss = 66.831406, step = 14401 (0.851 sec)\n",
      "INFO:tensorflow:global_step/sec: 113.744\n",
      "INFO:tensorflow:loss = 70.071465, step = 14501 (0.879 sec)\n",
      "INFO:tensorflow:global_step/sec: 119.794\n",
      "INFO:tensorflow:loss = 78.96298, step = 14601 (0.833 sec)\n",
      "INFO:tensorflow:global_step/sec: 127.243\n",
      "INFO:tensorflow:loss = 72.06011, step = 14701 (0.786 sec)\n",
      "INFO:tensorflow:global_step/sec: 116.319\n",
      "INFO:tensorflow:loss = 49.054565, step = 14801 (0.860 sec)\n",
      "INFO:tensorflow:global_step/sec: 110.73\n",
      "INFO:tensorflow:loss = 59.130554, step = 14901 (0.904 sec)\n",
      "INFO:tensorflow:global_step/sec: 117.477\n",
      "INFO:tensorflow:loss = 51.70874, step = 15001 (0.854 sec)\n",
      "INFO:tensorflow:global_step/sec: 119.794\n",
      "INFO:tensorflow:loss = 47.048416, step = 15101 (0.831 sec)\n",
      "INFO:tensorflow:global_step/sec: 117.135\n",
      "INFO:tensorflow:loss = 63.673695, step = 15201 (0.855 sec)\n",
      "INFO:tensorflow:global_step/sec: 123.634\n",
      "INFO:tensorflow:loss = 51.51701, step = 15301 (0.808 sec)\n",
      "INFO:tensorflow:global_step/sec: 125.178\n",
      "INFO:tensorflow:loss = 56.06241, step = 15401 (0.801 sec)\n",
      "INFO:tensorflow:global_step/sec: 129.377\n",
      "INFO:tensorflow:loss = 71.600945, step = 15501 (0.771 sec)\n",
      "INFO:tensorflow:global_step/sec: 131.585\n",
      "INFO:tensorflow:loss = 71.22268, step = 15601 (0.760 sec)\n",
      "INFO:tensorflow:global_step/sec: 122.351\n",
      "INFO:tensorflow:loss = 54.777714, step = 15701 (0.817 sec)\n",
      "INFO:tensorflow:global_step/sec: 119.224\n",
      "INFO:tensorflow:loss = 64.73633, step = 15801 (0.839 sec)\n",
      "INFO:tensorflow:global_step/sec: 121.096\n",
      "INFO:tensorflow:loss = 65.888405, step = 15901 (0.827 sec)\n",
      "INFO:tensorflow:global_step/sec: 120.081\n",
      "INFO:tensorflow:loss = 71.56384, step = 16001 (0.833 sec)\n",
      "INFO:tensorflow:global_step/sec: 122.427\n",
      "INFO:tensorflow:loss = 62.58347, step = 16101 (0.817 sec)\n",
      "INFO:tensorflow:global_step/sec: 116.386\n",
      "INFO:tensorflow:loss = 57.383945, step = 16201 (0.859 sec)\n",
      "INFO:tensorflow:global_step/sec: 125.334\n",
      "INFO:tensorflow:loss = 54.232594, step = 16301 (0.797 sec)\n",
      "INFO:tensorflow:global_step/sec: 136.418\n",
      "INFO:tensorflow:loss = 66.87217, step = 16401 (0.734 sec)\n",
      "INFO:tensorflow:global_step/sec: 130.387\n",
      "INFO:tensorflow:loss = 54.180614, step = 16501 (0.767 sec)\n",
      "INFO:tensorflow:global_step/sec: 139.839\n",
      "INFO:tensorflow:loss = 53.81604, step = 16601 (0.717 sec)\n",
      "INFO:tensorflow:global_step/sec: 128.056\n",
      "INFO:tensorflow:loss = 52.029602, step = 16701 (0.780 sec)\n",
      "INFO:tensorflow:global_step/sec: 125.648\n",
      "INFO:tensorflow:loss = 53.46666, step = 16801 (0.796 sec)\n",
      "INFO:tensorflow:global_step/sec: 110.67\n",
      "INFO:tensorflow:loss = 63.071953, step = 16901 (0.902 sec)\n",
      "INFO:tensorflow:global_step/sec: 129.377\n",
      "INFO:tensorflow:loss = 60.030556, step = 17001 (0.774 sec)\n",
      "INFO:tensorflow:global_step/sec: 118.8\n",
      "INFO:tensorflow:loss = 65.60173, step = 17101 (0.841 sec)\n",
      "INFO:tensorflow:global_step/sec: 114.722\n",
      "INFO:tensorflow:loss = 58.31984, step = 17201 (0.873 sec)\n",
      "INFO:tensorflow:global_step/sec: 110.548\n",
      "INFO:tensorflow:loss = 54.18696, step = 17301 (0.905 sec)\n",
      "INFO:tensorflow:global_step/sec: 129.044\n",
      "INFO:tensorflow:loss = 54.35034, step = 17401 (0.774 sec)\n",
      "INFO:tensorflow:global_step/sec: 116.316\n",
      "INFO:tensorflow:loss = 53.42395, step = 17501 (0.861 sec)\n",
      "INFO:tensorflow:global_step/sec: 121.98\n",
      "INFO:tensorflow:loss = 69.09706, step = 17601 (0.821 sec)\n",
      "INFO:tensorflow:global_step/sec: 138.11\n",
      "INFO:tensorflow:loss = 80.26982, step = 17701 (0.724 sec)\n",
      "INFO:tensorflow:global_step/sec: 120.659\n",
      "INFO:tensorflow:loss = 53.45854, step = 17801 (0.827 sec)\n",
      "INFO:tensorflow:global_step/sec: 127.729\n",
      "INFO:tensorflow:loss = 56.298798, step = 17901 (0.783 sec)\n",
      "INFO:tensorflow:global_step/sec: 118.8\n",
      "INFO:tensorflow:loss = 57.66676, step = 18001 (0.845 sec)\n",
      "INFO:tensorflow:global_step/sec: 127.405\n",
      "INFO:tensorflow:loss = 51.053406, step = 18101 (0.782 sec)\n",
      "INFO:tensorflow:global_step/sec: 105.767\n",
      "INFO:tensorflow:loss = 64.92383, step = 18201 (0.947 sec)\n",
      "INFO:tensorflow:global_step/sec: 118.52\n",
      "INFO:tensorflow:loss = 52.535027, step = 18301 (0.843 sec)\n",
      "INFO:tensorflow:global_step/sec: 122.277\n",
      "INFO:tensorflow:loss = 51.490616, step = 18401 (0.817 sec)\n",
      "INFO:tensorflow:global_step/sec: 118.236\n",
      "INFO:tensorflow:loss = 62.607964, step = 18501 (0.846 sec)\n",
      "INFO:tensorflow:global_step/sec: 118.379\n",
      "INFO:tensorflow:loss = 61.976517, step = 18601 (0.845 sec)\n",
      "INFO:tensorflow:global_step/sec: 111.039\n",
      "INFO:tensorflow:loss = 75.4113, step = 18701 (0.901 sec)\n",
      "INFO:tensorflow:global_step/sec: 104.663\n",
      "INFO:tensorflow:loss = 59.439587, step = 18801 (0.958 sec)\n"
     ]
    },
    {
     "name": "stdout",
     "output_type": "stream",
     "text": [
      "INFO:tensorflow:global_step/sec: 110.67\n",
      "INFO:tensorflow:loss = 54.74801, step = 18901 (0.904 sec)\n",
      "INFO:tensorflow:global_step/sec: 121.975\n",
      "INFO:tensorflow:loss = 71.24484, step = 19001 (0.818 sec)\n",
      "INFO:tensorflow:global_step/sec: 134.047\n",
      "INFO:tensorflow:loss = 80.73773, step = 19101 (0.749 sec)\n",
      "INFO:tensorflow:global_step/sec: 116.59\n",
      "INFO:tensorflow:loss = 56.340923, step = 19201 (0.854 sec)\n",
      "INFO:tensorflow:global_step/sec: 124.247\n",
      "INFO:tensorflow:loss = 52.829414, step = 19301 (0.809 sec)\n",
      "INFO:tensorflow:global_step/sec: 117.409\n",
      "INFO:tensorflow:loss = 55.517014, step = 19401 (0.848 sec)\n",
      "INFO:tensorflow:global_step/sec: 121.98\n",
      "INFO:tensorflow:loss = 64.70309, step = 19501 (0.821 sec)\n",
      "INFO:tensorflow:global_step/sec: 128.055\n",
      "INFO:tensorflow:loss = 54.92183, step = 19601 (0.780 sec)\n",
      "INFO:tensorflow:global_step/sec: 120.366\n",
      "INFO:tensorflow:loss = 62.016457, step = 19701 (0.831 sec)\n",
      "INFO:tensorflow:global_step/sec: 126.119\n",
      "INFO:tensorflow:loss = 56.68051, step = 19801 (0.793 sec)\n",
      "INFO:tensorflow:global_step/sec: 119.794\n",
      "INFO:tensorflow:loss = 54.987434, step = 19901 (0.836 sec)\n",
      "INFO:tensorflow:global_step/sec: 118.519\n",
      "INFO:tensorflow:loss = 49.909245, step = 20001 (0.844 sec)\n",
      "INFO:tensorflow:global_step/sec: 127.892\n",
      "INFO:tensorflow:loss = 53.365562, step = 20101 (0.782 sec)\n",
      "INFO:tensorflow:global_step/sec: 121.684\n",
      "INFO:tensorflow:loss = 59.30286, step = 20201 (0.821 sec)\n",
      "INFO:tensorflow:global_step/sec: 122.128\n",
      "INFO:tensorflow:loss = 48.170082, step = 20301 (0.819 sec)\n",
      "INFO:tensorflow:global_step/sec: 119.508\n",
      "INFO:tensorflow:loss = 62.406128, step = 20401 (0.838 sec)\n",
      "INFO:tensorflow:global_step/sec: 116.726\n",
      "INFO:tensorflow:loss = 66.11217, step = 20501 (0.858 sec)\n",
      "INFO:tensorflow:global_step/sec: 116.185\n",
      "INFO:tensorflow:loss = 65.66191, step = 20601 (0.859 sec)\n",
      "INFO:tensorflow:global_step/sec: 126.6\n",
      "INFO:tensorflow:loss = 58.347466, step = 20701 (0.790 sec)\n",
      "INFO:tensorflow:global_step/sec: 123.94\n",
      "INFO:tensorflow:loss = 52.438168, step = 20801 (0.810 sec)\n",
      "INFO:tensorflow:global_step/sec: 122.427\n",
      "INFO:tensorflow:loss = 55.098507, step = 20901 (0.814 sec)\n",
      "INFO:tensorflow:Saving checkpoints for 21000 into C:\\Users\\cheta\\AppData\\Local\\Temp\\tmpeu_1d0ae\\model.ckpt.\n",
      "INFO:tensorflow:Loss for final step: 53.011818.\n"
     ]
    },
    {
     "data": {
      "text/plain": [
       "<tensorflow_estimator.python.estimator.canned.dnn.DNNClassifier at 0x1bd4c6880b8>"
      ]
     },
     "execution_count": 42,
     "metadata": {},
     "output_type": "execute_result"
    }
   ],
   "source": [
    "model_DNN.train(input_fn=input_fun_train,steps=10000)"
   ]
  },
  {
   "cell_type": "code",
   "execution_count": 44,
   "metadata": {},
   "outputs": [
    {
     "name": "stdout",
     "output_type": "stream",
     "text": [
      "INFO:tensorflow:Calling model_fn.\n",
      "WARNING:tensorflow:Trapezoidal rule is known to produce incorrect PR-AUCs; please switch to \"careful_interpolation\" instead.\n",
      "WARNING:tensorflow:Trapezoidal rule is known to produce incorrect PR-AUCs; please switch to \"careful_interpolation\" instead.\n",
      "INFO:tensorflow:Done calling model_fn.\n",
      "INFO:tensorflow:Starting evaluation at 2019-06-15T19:03:40Z\n",
      "INFO:tensorflow:Graph was finalized.\n",
      "INFO:tensorflow:Restoring parameters from C:\\Users\\cheta\\AppData\\Local\\Temp\\tmpeu_1d0ae\\model.ckpt-21000\n",
      "INFO:tensorflow:Running local_init_op.\n",
      "INFO:tensorflow:Done running local_init_op.\n",
      "INFO:tensorflow:Finished evaluation at 2019-06-15-19:03:42\n",
      "INFO:tensorflow:Saving dict for global step 21000: accuracy = 0.8526973, accuracy_baseline = 0.7642543, auc = 0.90669554, auc_precision_recall = 0.7716397, average_loss = 0.32037172, global_step = 21000, label/mean = 0.23574573, loss = 63.87166, precision = 0.7123894, prediction/mean = 0.24969792, recall = 0.62917936\n",
      "INFO:tensorflow:Saving 'checkpoint_path' summary for global step 21000: C:\\Users\\cheta\\AppData\\Local\\Temp\\tmpeu_1d0ae\\model.ckpt-21000\n"
     ]
    }
   ],
   "source": [
    "performance = model_DNN.evaluate(input_fn=input_fun_eval)"
   ]
  },
  {
   "cell_type": "code",
   "execution_count": 45,
   "metadata": {},
   "outputs": [
    {
     "data": {
      "text/plain": [
       "{'accuracy': 0.8526973,\n",
       " 'accuracy_baseline': 0.7642543,\n",
       " 'auc': 0.90669554,\n",
       " 'auc_precision_recall': 0.7716397,\n",
       " 'average_loss': 0.32037172,\n",
       " 'label/mean': 0.23574573,\n",
       " 'loss': 63.87166,\n",
       " 'precision': 0.7123894,\n",
       " 'prediction/mean': 0.24969792,\n",
       " 'recall': 0.62917936,\n",
       " 'global_step': 21000}"
      ]
     },
     "execution_count": 45,
     "metadata": {},
     "output_type": "execute_result"
    }
   ],
   "source": [
    "performance"
   ]
  },
  {
   "cell_type": "code",
   "execution_count": null,
   "metadata": {},
   "outputs": [],
   "source": []
  }
 ],
 "metadata": {
  "kernelspec": {
   "display_name": "Python 3",
   "language": "python",
   "name": "python3"
  },
  "language_info": {
   "codemirror_mode": {
    "name": "ipython",
    "version": 3
   },
   "file_extension": ".py",
   "mimetype": "text/x-python",
   "name": "python",
   "nbconvert_exporter": "python",
   "pygments_lexer": "ipython3",
   "version": "3.7.3"
  }
 },
 "nbformat": 4,
 "nbformat_minor": 2
}
